{
  "nbformat": 4,
  "nbformat_minor": 0,
  "metadata": {
    "colab": {
      "provenance": []
    },
    "kernelspec": {
      "name": "python3",
      "display_name": "Python 3"
    },
    "language_info": {
      "name": "python"
    }
  },
  "cells": [
    {
      "cell_type": "markdown",
      "source": [
        "## Problem 1\n",
        "A physiotherapist with a male football team is interested in studying the relationship between foot injuries and the positions at which the players play from the data collected.\n",
        "\n",
        "\n",
        "\n"
      ],
      "metadata": {
        "id": "zAB5BaBEpqjM"
      }
    },
    {
      "cell_type": "code",
      "source": [
        "import numpy as np\n",
        "import pandas as pd\n",
        "import matplotlib.pyplot as plt\n",
        "import seaborn as sns\n",
        "%matplotlib inline\n",
        "import scipy.stats as stats"
      ],
      "metadata": {
        "id": "lZxqg13EqI04"
      },
      "execution_count": 578,
      "outputs": []
    },
    {
      "cell_type": "markdown",
      "source": [
        "1.1 What is the probability that a randomly chosen player would suffer an injury?"
      ],
      "metadata": {
        "id": "h9H_-RSN4wUh"
      }
    },
    {
      "cell_type": "code",
      "source": [
        "Injured_players = 145\n",
        "Total_players = 235\n",
        "prob_injured_players = (Injured_players) / (Total_players)\n",
        "print(prob_injured_players)"
      ],
      "metadata": {
        "colab": {
          "base_uri": "https://localhost:8080/"
        },
        "id": "KJLlm0cB4onP",
        "outputId": "67036c0e-ac2a-4f27-fe02-567d6c19ae31"
      },
      "execution_count": 579,
      "outputs": [
        {
          "output_type": "stream",
          "name": "stdout",
          "text": [
            "0.6170212765957447\n"
          ]
        }
      ]
    },
    {
      "cell_type": "markdown",
      "source": [
        "The propbability that a randomly chosen player would suffer an injury is 61%"
      ],
      "metadata": {
        "id": "Ogf_3NnY47bN"
      }
    },
    {
      "cell_type": "markdown",
      "source": [
        "1.2 What is the probability that a player is a forward or a winger?\n",
        "\n"
      ],
      "metadata": {
        "id": "_QJv7VgeuNlo"
      }
    },
    {
      "cell_type": "code",
      "source": [
        "forwad_player = 94\n",
        "winger_player = 29\n",
        "total_players = 235\n",
        "prob_forward_winger = (forwad_player + winger_player)/ total_players\n",
        "print(prob_forward_winger)"
      ],
      "metadata": {
        "colab": {
          "base_uri": "https://localhost:8080/"
        },
        "id": "C-aujk8Z3fx_",
        "outputId": "3796c78f-6199-4acc-e325-e7c8a2e018d2"
      },
      "execution_count": 580,
      "outputs": [
        {
          "output_type": "stream",
          "name": "stdout",
          "text": [
            "0.5234042553191489\n"
          ]
        }
      ]
    },
    {
      "cell_type": "markdown",
      "source": [
        " probability that a player is a forward or a winger is 52%"
      ],
      "metadata": {
        "id": "89JvNxA_5OGg"
      }
    },
    {
      "cell_type": "markdown",
      "source": [
        "1.3 What is the probability that a randomly chosen player plays in a striker position and has a foot injury?"
      ],
      "metadata": {
        "id": "Frleg_T_5cWY"
      }
    },
    {
      "cell_type": "code",
      "source": [
        "striker_position = 77\n",
        "striker_position_with_foot_injury = 45\n",
        "total_players = 235\n",
        "prob_striker_position_with_foot_injury = (striker_position_with_foot_injury) / total_players\n",
        "print(prob_striker_position_with_foot_injury)"
      ],
      "metadata": {
        "colab": {
          "base_uri": "https://localhost:8080/"
        },
        "id": "SKt8AoSN18D4",
        "outputId": "20ac9783-49a6-4ffe-f21e-6429d29ce9b8"
      },
      "execution_count": 581,
      "outputs": [
        {
          "output_type": "stream",
          "name": "stdout",
          "text": [
            "0.19148936170212766\n"
          ]
        }
      ]
    },
    {
      "cell_type": "markdown",
      "source": [
        "so, The probability that a randomly selected player plays as striker and has an injury is 19.1%"
      ],
      "metadata": {
        "id": "iSU2QyeV6myW"
      }
    },
    {
      "cell_type": "markdown",
      "source": [
        "1.4 What is the probability that a randomly chosen injured player is a striker?"
      ],
      "metadata": {
        "id": "nZsEaBnh65XM"
      }
    },
    {
      "cell_type": "code",
      "source": [
        "no_strikers_injured = 45\n",
        "no_players_injured = 145\n",
        "prob_injured_striker = (no_strikers_injured) / (no_players_injured)\n",
        "print(prob_injured_striker)"
      ],
      "metadata": {
        "colab": {
          "base_uri": "https://localhost:8080/"
        },
        "id": "eFnvjzLD7CCh",
        "outputId": "d931630e-046c-44a7-c6bd-252788be66c9"
      },
      "execution_count": 582,
      "outputs": [
        {
          "output_type": "stream",
          "name": "stdout",
          "text": [
            "0.3103448275862069\n"
          ]
        }
      ]
    },
    {
      "cell_type": "markdown",
      "source": [
        "therefore, the randomly selected injured player is a striker is 31%"
      ],
      "metadata": {
        "id": "jsLABKcL8bkr"
      }
    },
    {
      "cell_type": "markdown",
      "source": [
        "# Problem 2\n",
        "The breaking strength of gunny bags used for packaging cement is normally distributed with a mean of 5 kg per sq. centimeter and a standard deviation of 1.5 kg per sq. centimeter. The quality team of the cement company wants to know the following about the packaging material to better understand wastage or pilferage within the supply chain; Answer the questions below based on the given information; (Provide an appropriate visual representation of your answers, without which marks will be deducted)\n",
        "\n",
        "2.1 What proportion of the gunny bags have a breaking strength of less than 3.17 kg per sq cm?"
      ],
      "metadata": {
        "id": "kZ7329O38i1N"
      }
    },
    {
      "cell_type": "code",
      "source": [
        "#given that mean = 5\n",
        "#given that standard deviation = 1.5\n",
        "#value of interest (3.17 kg per sq cm)\n",
        "mean = 5\n",
        "std_deviation = 1.5\n",
        "value = 3.17\n",
        "# we have to Calculate the z-score\n",
        "z_score = (value - mean) / std_deviation\n",
        "# Calculate the cumulative probability (proportion) for the z-score\n",
        "proportion = stats.norm.cdf(z_score)\n",
        "# To create rangoe of values for x-axis\n",
        "x = np.linspace(-10, +10, 1000)\n",
        "# To Calculate the corresponding probability density function (PDF)\n",
        "pdf = stats.norm.pdf(x, mean, std_deviation)\n",
        "plt.plot(x, pdf, label='PDF (N(5, 1.5))')\n",
        "plt.fill_between(x, pdf, where=(x < value))\n",
        "plt.axvline(x=value, color='pink', label=f'Breaking Strength: {value} kg/sq cm')\n",
        "plt.legend()\n",
        "plt.title('Standard Normal Distribution')\n",
        "plt.xlabel('Breaking Strength (kg/sq cm)')\n",
        "plt.ylabel('Probability Density')\n",
        "plt.show()\n",
        "print(f\"The proportion of gunny bags with breaking strength less than {value} kg per sq cm is approximately {proportion:.4f}\")"
      ],
      "metadata": {
        "colab": {
          "base_uri": "https://localhost:8080/",
          "height": 489
        },
        "id": "njQL6jRn9OLe",
        "outputId": "c087d768-6f20-4227-dbfa-76e1644b16bf"
      },
      "execution_count": 583,
      "outputs": [
        {
          "output_type": "display_data",
          "data": {
            "text/plain": [
              "<Figure size 640x480 with 1 Axes>"
            ],
            "image/png": "[encoded data removed]"
          },
          "metadata": {}
        },
        {
          "output_type": "stream",
          "name": "stdout",
          "text": [
            "The proportion of gunny bags with breaking strength less than 3.17 kg per sq cm is approximately 0.1112\n"
          ]
        }
      ]
    },
    {
      "cell_type": "code",
      "source": [
        "#simply we can solve above problem with the below code\n",
        "import scipy.stats as stats\n",
        "stats.norm.cdf(3.17,loc=5,scale=1.5)"
      ],
      "metadata": {
        "colab": {
          "base_uri": "https://localhost:8080/"
        },
        "id": "H_NojvJJjnqB",
        "outputId": "f3ec86d9-7be1-4d2c-a1e8-34b8091050a3"
      },
      "execution_count": 584,
      "outputs": [
        {
          "output_type": "execute_result",
          "data": {
            "text/plain": [
              "0.11123243744783456"
            ]
          },
          "metadata": {},
          "execution_count": 584
        }
      ]
    },
    {
      "cell_type": "markdown",
      "source": [
        " we found out that the proportion of the gunny bags have a breaking strength of less than 3.17 kg per sq cm os 0.111 i.e 11.2%"
      ],
      "metadata": {
        "id": "H2s-S3o0_m-j"
      }
    },
    {
      "cell_type": "markdown",
      "source": [
        "2.2 What proportion of the gunny bags have a breaking strength of at least 3.6 kg per sq cm.?"
      ],
      "metadata": {
        "id": "6-4Utjlt_nMc"
      }
    },
    {
      "cell_type": "code",
      "source": [
        "#given that mean = 5\n",
        "#given that standard deviation = 1.5\n",
        "#value of interest (3.6 kg per sq cm)\n",
        "mean = 5\n",
        "std_deviation = 1.5\n",
        "value = 3.6\n",
        "# we have to Calculate the z-score\n",
        "z_score = (value - mean) / std_deviation\n",
        "# Calculate the cumulative probability (proportion) for the z-score\n",
        "proportion = 1 - stats.norm.cdf(z_score)\n",
        "# To create rangoe of values for x-axis\n",
        "x = np.linspace(-10, +10, 1000)\n",
        "# To Calculate the corresponding probability density function (PDF)\n",
        "pdf = stats.norm.pdf(x, mean, std_deviation)\n",
        "plt.plot(x, pdf, label='PDF (N(5, 1.5))')\n",
        "plt.fill_between(x, pdf, where=(x < value))\n",
        "plt.axvline(x=value, color='yellow', label=f'Breaking Strength: {value} kg/sq cm')\n",
        "plt.legend()\n",
        "plt.title('Standard Normal Distribution')\n",
        "plt.xlabel('Breaking Strength (kg/sq cm)')\n",
        "plt.ylabel('Probability Density')\n",
        "plt.show()\n",
        "print(f\"The proportion of gunny bags with breaking strength less than {value} kg per sq cm is approximately {proportion:.4f}\")"
      ],
      "metadata": {
        "colab": {
          "base_uri": "https://localhost:8080/",
          "height": 489
        },
        "id": "_Z5ag0Iz_r4D",
        "outputId": "7832213e-0996-43c7-e170-2e6d42658622"
      },
      "execution_count": 585,
      "outputs": [
        {
          "output_type": "display_data",
          "data": {
            "text/plain": [
              "<Figure size 640x480 with 1 Axes>"
            ],
            "image/png": "[encoded data removed]"
          },
          "metadata": {}
        },
        {
          "output_type": "stream",
          "name": "stdout",
          "text": [
            "The proportion of gunny bags with breaking strength less than 3.6 kg per sq cm is approximately 0.8247\n"
          ]
        }
      ]
    },
    {
      "cell_type": "markdown",
      "source": [
        "clearly from the graph we know that proportion of gunny bags with breaking strength less than 3.6 kg per sq cm is approximately 0.8247 i.e 82%"
      ],
      "metadata": {
        "id": "9nwgP5_e_slV"
      }
    },
    {
      "cell_type": "markdown",
      "source": [
        "2.3 What proportion of the gunny bags have a breaking strength between 5 and 5.5 kg per sq cm.?"
      ],
      "metadata": {
        "id": "hTucyeob_szj"
      }
    },
    {
      "cell_type": "code",
      "source": [
        "mean = 5.0\n",
        "std_deviation = 1.5\n",
        "lower_limit = 5.0\n",
        "upper_limit = 5.5\n",
        "# Calculate the z-scores for the lower and upper limits\n",
        "z_lower = (lower_limit - mean) / std_deviation\n",
        "z_upper = (upper_limit - mean) / std_deviation\n",
        "# Calculate the cumulative probabilities for the z-scores\n",
        "proportion = stats.norm.cdf(z_upper) - stats.norm.cdf(z_lower)\n",
        "# Create a range of values for the x-axis\n",
        "x = np.linspace(-10, +10, 500)\n",
        "# Calculate the corresponding probability density function\n",
        "pdf = stats.norm.pdf(x, mean, std_deviation)\n",
        "plt.plot(x, pdf, label='PDF (N(5, 1.5))')\n",
        "plt.fill_between(x, pdf, where=(x >= lower_limit) & (x <= upper_limit))\n",
        "plt.axvline(x=lower_limit, color='red', label=f'Lower Limit: {lower_limit} kg/sq cm')\n",
        "plt.axvline(x=upper_limit, color='red', label=f'Upper Limit: {upper_limit} kg/sq cm')\n",
        "plt.legend()\n",
        "plt.title('Standard Normal Distribution')\n",
        "plt.xlabel('Breaking Strength (kg/sq cm)')\n",
        "plt.ylabel('Probability Density')\n",
        "plt.show()\n",
        "print(f\"The proportion of gunny bags with breaking strength between {lower_limit} and {upper_limit} kg per sq cm is approximately {proportion:.4f}\")"
      ],
      "metadata": {
        "colab": {
          "base_uri": "https://localhost:8080/",
          "height": 489
        },
        "id": "zUEmEhPF_w3w",
        "outputId": "5638124d-0316-44de-ebde-443dc549b904"
      },
      "execution_count": 586,
      "outputs": [
        {
          "output_type": "display_data",
          "data": {
            "text/plain": [
              "<Figure size 640x480 with 1 Axes>"
            ],
            "image/png": "[encoded data removed]"
          },
          "metadata": {}
        },
        {
          "output_type": "stream",
          "name": "stdout",
          "text": [
            "The proportion of gunny bags with breaking strength between 5.0 and 5.5 kg per sq cm is approximately 0.1306\n"
          ]
        }
      ]
    },
    {
      "cell_type": "markdown",
      "source": [
        "so, from the above graph we know that the proportion of gunny bags with breaking strength between 5.0 and 5.5 kg per sq cm is approximately 0.1306\n",
        "i.e 13%\n",
        "\n"
      ],
      "metadata": {
        "id": "akyDrfKg_xI2"
      }
    },
    {
      "cell_type": "markdown",
      "source": [
        "2.4 What proportion of the gunny bags have a breaking strength NOT between 3 and 7.5 kg per sq cm.?\n",
        "\n"
      ],
      "metadata": {
        "id": "P70vlGEq_xRC"
      }
    },
    {
      "cell_type": "code",
      "source": [
        "mean = 5.0\n",
        "std_deviation = 1.5\n",
        "# Define the lower and upper limits of the range (3 kg per sq cm and 7.5 kg per sq cm)\n",
        "lower_limit = 3.0\n",
        "upper_limit = 7.5\n",
        "# Calculating the z-scores for the lower and upper limits\n",
        "z_lower = (lower_limit - mean) / std_deviation\n",
        "z_upper = (upper_limit - mean) / std_deviation\n",
        "# Calculate the cumulative probabilities for the z-scores\n",
        "proportion_within_range = stats.norm.cdf(z_upper) - stats.norm.cdf(z_lower)\n",
        "# The proportion NOT within the range is the complement of the proportion within the range\n",
        "proportion_not_within_range = 1 - proportion_within_range\n",
        "# Create a range of values for the x-axis (breaking strengths)\n",
        "x = np.linspace(-10, +10, 1000)\n",
        "# Calculate the corresponding probability density function (PDF)\n",
        "pdf = stats.norm.pdf(x, mean, std_deviation)\n",
        "plt.plot(x, pdf, label='PDF (N(5, 1.5))')\n",
        "plt.fill_between(x, pdf, where=(x < lower_limit) | (x > upper_limit))\n",
        "plt.axvline(x=lower_limit, color='black', label=f'Lower Limit: {lower_limit} kg/sq cm')\n",
        "plt.axvline(x=upper_limit, color='black', label=f'Upper Limit: {upper_limit} kg/sq cm')\n",
        "plt.legend()\n",
        "plt.title('Standard Normal Distribution')\n",
        "plt.xlabel('Breaking Strength (kg/sq cm)')\n",
        "plt.ylabel('Probability Density')\n",
        "plt.show()\n",
        "print(f\"The proportion of gunny bags with breaking strength NOT between {lower_limit} and {upper_limit} kg per sq cm is approximately {proportion_not_within_range:.4f}\")"
      ],
      "metadata": {
        "colab": {
          "base_uri": "https://localhost:8080/",
          "height": 489
        },
        "id": "5pR2oTsu_1C3",
        "outputId": "3c44e291-b072-4170-9c0a-63a3b8b9e5ab"
      },
      "execution_count": 587,
      "outputs": [
        {
          "output_type": "display_data",
          "data": {
            "text/plain": [
              "<Figure size 640x480 with 1 Axes>"
            ],
            "image/png": "[encoded data removed]"
          },
          "metadata": {}
        },
        {
          "output_type": "stream",
          "name": "stdout",
          "text": [
            "The proportion of gunny bags with breaking strength NOT between 3.0 and 7.5 kg per sq cm is approximately 0.1390\n"
          ]
        }
      ]
    },
    {
      "cell_type": "markdown",
      "source": [
        "It is clear that the The proportion of gunny bags with breaking strength NOT between 3.0 and 7.5 kg per sq cm is approximately 0.1390\n",
        "i.e 13.9%"
      ],
      "metadata": {
        "id": "_fS3RNFs_18l"
      }
    },
    {
      "cell_type": "markdown",
      "source": [
        "# Problem 3\n",
        "Zingaro stone printing is a company that specializes in printing images or patterns on polished or unpolished stones. However, for the optimum level of printing of the image, the stone surface has to have a Brinell's hardness index of at least 150. Recently, Zingaro has received a batch of polished and unpolished stones from its clients. Use the data provided to answer the following (assuming a 5% significance level);\n",
        "\n"
      ],
      "metadata": {
        "id": "G6AIPNj6_2au"
      }
    },
    {
      "cell_type": "code",
      "source": [
        "import numpy as np\n",
        "import pandas as pd\n",
        "import matplotlib.pyplot as plt\n",
        "import seaborn as sns\n",
        "%matplotlib inline\n",
        "from scipy import stats\n",
        "import scipy.stats as stats\n",
        "path = \"/content/Zingaro_Company.csv\"\n",
        "df=pd.read_csv(path)"
      ],
      "metadata": {
        "id": "Qo5gYnf5_8pp"
      },
      "execution_count": 588,
      "outputs": []
    },
    {
      "cell_type": "markdown",
      "source": [
        "First, let ous know the discription and information of the data"
      ],
      "metadata": {
        "id": "A5MR-NFgDzgg"
      }
    },
    {
      "cell_type": "code",
      "source": [
        "df.head(5)"
      ],
      "metadata": {
        "colab": {
          "base_uri": "https://localhost:8080/",
          "height": 206
        },
        "id": "QBvKcELiwQgN",
        "outputId": "c60c17d5-ec33-4214-b1c9-1debaa9f7c39"
      },
      "execution_count": 589,
      "outputs": [
        {
          "output_type": "execute_result",
          "data": {
            "text/plain": [
              "   Unpolished   Treated and Polished\n",
              "0   164.481713            133.209393\n",
              "1   154.307045            138.482771\n",
              "2   129.861048            159.665201\n",
              "3   159.096184            145.663528\n",
              "4   135.256748            136.789227"
            ],
            "text/html": [
              "\n",
              "  <div id=\"df-95973571-d31c-409c-afc2-98e107029a16\" class=\"colab-df-container\">\n",
              "    <div>\n",
              "<style scoped>\n",
              "    .dataframe tbody tr th:only-of-type {\n",
              "        vertical-align: middle;\n",
              "    }\n",
              "\n",
              "    .dataframe tbody tr th {\n",
              "        vertical-align: top;\n",
              "    }\n",
              "\n",
              "    .dataframe thead th {\n",
              "        text-align: right;\n",
              "    }\n",
              "</style>\n",
              "<table border=\"1\" class=\"dataframe\">\n",
              "  <thead>\n",
              "    <tr style=\"text-align: right;\">\n",
              "      <th></th>\n",
              "      <th>Unpolished</th>\n",
              "      <th>Treated and Polished</th>\n",
              "    </tr>\n",
              "  </thead>\n",
              "  <tbody>\n",
              "    <tr>\n",
              "      <th>0</th>\n",
              "      <td>164.481713</td>\n",
              "      <td>133.209393</td>\n",
              "    </tr>\n",
              "    <tr>\n",
              "      <th>1</th>\n",
              "      <td>154.307045</td>\n",
              "      <td>138.482771</td>\n",
              "    </tr>\n",
              "    <tr>\n",
              "      <th>2</th>\n",
              "      <td>129.861048</td>\n",
              "      <td>159.665201</td>\n",
              "    </tr>\n",
              "    <tr>\n",
              "      <th>3</th>\n",
              "      <td>159.096184</td>\n",
              "      <td>145.663528</td>\n",
              "    </tr>\n",
              "    <tr>\n",
              "      <th>4</th>\n",
              "      <td>135.256748</td>\n",
              "      <td>136.789227</td>\n",
              "    </tr>\n",
              "  </tbody>\n",
              "</table>\n",
              "</div>\n",
              "    <div class=\"colab-df-buttons\">\n",
              "\n",
              "  <div class=\"colab-df-container\">\n",
              "    <button class=\"colab-df-convert\" onclick=\"convertToInteractive('df-95973571-d31c-409c-afc2-98e107029a16')\"\n",
              "            title=\"Convert this dataframe to an interactive table.\"\n",
              "            style=\"display:none;\">\n",
              "\n",
              "  <svg xmlns=\"http://www.w3.org/2000/svg\" height=\"24px\" viewBox=\"0 -960 960 960\">\n",
              "    <path d=\"M120-120v-720h720v720H120Zm60-500h600v-160H180v160Zm220 220h160v-160H400v160Zm0 220h160v-160H400v160ZM180-400h160v-160H180v160Zm440 0h160v-160H620v160ZM180-180h160v-160H180v160Zm440 0h160v-160H620v160Z\"/>\n",
              "  </svg>\n",
              "    </button>\n",
              "\n",
              "  <style>\n",
              "    .colab-df-container {\n",
              "      display:flex;\n",
              "      gap: 12px;\n",
              "    }\n",
              "\n",
              "    .colab-df-convert {\n",
              "      background-color: #E8F0FE;\n",
              "      border: none;\n",
              "      border-radius: 50%;\n",
              "      cursor: pointer;\n",
              "      display: none;\n",
              "      fill: #1967D2;\n",
              "      height: 32px;\n",
              "      padding: 0 0 0 0;\n",
              "      width: 32px;\n",
              "    }\n",
              "\n",
              "    .colab-df-convert:hover {\n",
              "      background-color: #E2EBFA;\n",
              "      box-shadow: 0px 1px 2px rgba(60, 64, 67, 0.3), 0px 1px 3px 1px rgba(60, 64, 67, 0.15);\n",
              "      fill: #174EA6;\n",
              "    }\n",
              "\n",
              "    .colab-df-buttons div {\n",
              "      margin-bottom: 4px;\n",
              "    }\n",
              "\n",
              "    [theme=dark] .colab-df-convert {\n",
              "      background-color: #3B4455;\n",
              "      fill: #D2E3FC;\n",
              "    }\n",
              "\n",
              "    [theme=dark] .colab-df-convert:hover {\n",
              "      background-color: #434B5C;\n",
              "      box-shadow: 0px 1px 3px 1px rgba(0, 0, 0, 0.15);\n",
              "      filter: drop-shadow(0px 1px 2px rgba(0, 0, 0, 0.3));\n",
              "      fill: #FFFFFF;\n",
              "    }\n",
              "  </style>\n",
              "\n",
              "    <script>\n",
              "      const buttonEl =\n",
              "        document.querySelector('#df-95973571-d31c-409c-afc2-98e107029a16 button.colab-df-convert');\n",
              "      buttonEl.style.display =\n",
              "        google.colab.kernel.accessAllowed ? 'block' : 'none';\n",
              "\n",
              "      async function convertToInteractive(key) {\n",
              "        const element = document.querySelector('#df-95973571-d31c-409c-afc2-98e107029a16');\n",
              "        const dataTable =\n",
              "          await google.colab.kernel.invokeFunction('convertToInteractive',\n",
              "                                                    [key], {});\n",
              "        if (!dataTable) return;\n",
              "\n",
              "        const docLinkHtml = 'Like what you see? Visit the ' +\n",
              "          '<a target=\"_blank\" href=https://colab.research.google.com/notebooks/data_table.ipynb>data table notebook</a>'\n",
              "          + ' to learn more about interactive tables.';\n",
              "        element.innerHTML = '';\n",
              "        dataTable['output_type'] = 'display_data';\n",
              "        await google.colab.output.renderOutput(dataTable, element);\n",
              "        const docLink = document.createElement('div');\n",
              "        docLink.innerHTML = docLinkHtml;\n",
              "        element.appendChild(docLink);\n",
              "      }\n",
              "    </script>\n",
              "  </div>\n",
              "\n",
              "\n",
              "<div id=\"df-26b1a90c-7f19-475e-a9ac-276201147e28\">\n",
              "  <button class=\"colab-df-quickchart\" onclick=\"quickchart('df-26b1a90c-7f19-475e-a9ac-276201147e28')\"\n",
              "            title=\"Suggest charts.\"\n",
              "            style=\"display:none;\">\n",
              "\n",
              "<svg xmlns=\"http://www.w3.org/2000/svg\" height=\"24px\"viewBox=\"0 0 24 24\"\n",
              "     width=\"24px\">\n",
              "    <g>\n",
              "        <path d=\"M19 3H5c-1.1 0-2 .9-2 2v14c0 1.1.9 2 2 2h14c1.1 0 2-.9 2-2V5c0-1.1-.9-2-2-2zM9 17H7v-7h2v7zm4 0h-2V7h2v10zm4 0h-2v-4h2v4z\"/>\n",
              "    </g>\n",
              "</svg>\n",
              "  </button>\n",
              "\n",
              "<style>\n",
              "  .colab-df-quickchart {\n",
              "      --bg-color: #E8F0FE;\n",
              "      --fill-color: #1967D2;\n",
              "      --hover-bg-color: #E2EBFA;\n",
              "      --hover-fill-color: #174EA6;\n",
              "      --disabled-fill-color: #AAA;\n",
              "      --disabled-bg-color: #DDD;\n",
              "  }\n",
              "\n",
              "  [theme=dark] .colab-df-quickchart {\n",
              "      --bg-color: #3B4455;\n",
              "      --fill-color: #D2E3FC;\n",
              "      --hover-bg-color: #434B5C;\n",
              "      --hover-fill-color: #FFFFFF;\n",
              "      --disabled-bg-color: #3B4455;\n",
              "      --disabled-fill-color: #666;\n",
              "  }\n",
              "\n",
              "  .colab-df-quickchart {\n",
              "    background-color: var(--bg-color);\n",
              "    border: none;\n",
              "    border-radius: 50%;\n",
              "    cursor: pointer;\n",
              "    display: none;\n",
              "    fill: var(--fill-color);\n",
              "    height: 32px;\n",
              "    padding: 0;\n",
              "    width: 32px;\n",
              "  }\n",
              "\n",
              "  .colab-df-quickchart:hover {\n",
              "    background-color: var(--hover-bg-color);\n",
              "    box-shadow: 0 1px 2px rgba(60, 64, 67, 0.3), 0 1px 3px 1px rgba(60, 64, 67, 0.15);\n",
              "    fill: var(--button-hover-fill-color);\n",
              "  }\n",
              "\n",
              "  .colab-df-quickchart-complete:disabled,\n",
              "  .colab-df-quickchart-complete:disabled:hover {\n",
              "    background-color: var(--disabled-bg-color);\n",
              "    fill: var(--disabled-fill-color);\n",
              "    box-shadow: none;\n",
              "  }\n",
              "\n",
              "  .colab-df-spinner {\n",
              "    border: 2px solid var(--fill-color);\n",
              "    border-color: transparent;\n",
              "    border-bottom-color: var(--fill-color);\n",
              "    animation:\n",
              "      spin 1s steps(1) infinite;\n",
              "  }\n",
              "\n",
              "  @keyframes spin {\n",
              "    0% {\n",
              "      border-color: transparent;\n",
              "      border-bottom-color: var(--fill-color);\n",
              "      border-left-color: var(--fill-color);\n",
              "    }\n",
              "    20% {\n",
              "      border-color: transparent;\n",
              "      border-left-color: var(--fill-color);\n",
              "      border-top-color: var(--fill-color);\n",
              "    }\n",
              "    30% {\n",
              "      border-color: transparent;\n",
              "      border-left-color: var(--fill-color);\n",
              "      border-top-color: var(--fill-color);\n",
              "      border-right-color: var(--fill-color);\n",
              "    }\n",
              "    40% {\n",
              "      border-color: transparent;\n",
              "      border-right-color: var(--fill-color);\n",
              "      border-top-color: var(--fill-color);\n",
              "    }\n",
              "    60% {\n",
              "      border-color: transparent;\n",
              "      border-right-color: var(--fill-color);\n",
              "    }\n",
              "    80% {\n",
              "      border-color: transparent;\n",
              "      border-right-color: var(--fill-color);\n",
              "      border-bottom-color: var(--fill-color);\n",
              "    }\n",
              "    90% {\n",
              "      border-color: transparent;\n",
              "      border-bottom-color: var(--fill-color);\n",
              "    }\n",
              "  }\n",
              "</style>\n",
              "\n",
              "  <script>\n",
              "    async function quickchart(key) {\n",
              "      const quickchartButtonEl =\n",
              "        document.querySelector('#' + key + ' button');\n",
              "      quickchartButtonEl.disabled = true;  // To prevent multiple clicks.\n",
              "      quickchartButtonEl.classList.add('colab-df-spinner');\n",
              "      try {\n",
              "        const charts = await google.colab.kernel.invokeFunction(\n",
              "            'suggestCharts', [key], {});\n",
              "      } catch (error) {\n",
              "        console.error('Error during call to suggestCharts:', error);\n",
              "      }\n",
              "      quickchartButtonEl.classList.remove('colab-df-spinner');\n",
              "      quickchartButtonEl.classList.add('colab-df-quickchart-complete');\n",
              "    }\n",
              "    (() => {\n",
              "      let quickchartButtonEl =\n",
              "        document.querySelector('#df-26b1a90c-7f19-475e-a9ac-276201147e28 button');\n",
              "      quickchartButtonEl.style.display =\n",
              "        google.colab.kernel.accessAllowed ? 'block' : 'none';\n",
              "    })();\n",
              "  </script>\n",
              "</div>\n",
              "    </div>\n",
              "  </div>\n"
            ]
          },
          "metadata": {},
          "execution_count": 589
        }
      ]
    },
    {
      "cell_type": "code",
      "source": [
        "df.tail(5)"
      ],
      "metadata": {
        "colab": {
          "base_uri": "https://localhost:8080/",
          "height": 206
        },
        "id": "GbFwAZv1wiZg",
        "outputId": "5b8fd0f3-049e-4512-a019-b71674af0811"
      },
      "execution_count": 590,
      "outputs": [
        {
          "output_type": "execute_result",
          "data": {
            "text/plain": [
              "    Unpolished   Treated and Polished\n",
              "70   123.067611            142.293544\n",
              "71   171.822218            140.124092\n",
              "72    88.135994            141.393091\n",
              "73   145.150397            131.370530\n",
              "74   170.854823            144.502647"
            ],
            "text/html": [
              "\n",
              "  <div id=\"df-2eaa1648-9fba-4d48-acd2-c22cece1df6d\" class=\"colab-df-container\">\n",
              "    <div>\n",
              "<style scoped>\n",
              "    .dataframe tbody tr th:only-of-type {\n",
              "        vertical-align: middle;\n",
              "    }\n",
              "\n",
              "    .dataframe tbody tr th {\n",
              "        vertical-align: top;\n",
              "    }\n",
              "\n",
              "    .dataframe thead th {\n",
              "        text-align: right;\n",
              "    }\n",
              "</style>\n",
              "<table border=\"1\" class=\"dataframe\">\n",
              "  <thead>\n",
              "    <tr style=\"text-align: right;\">\n",
              "      <th></th>\n",
              "      <th>Unpolished</th>\n",
              "      <th>Treated and Polished</th>\n",
              "    </tr>\n",
              "  </thead>\n",
              "  <tbody>\n",
              "    <tr>\n",
              "      <th>70</th>\n",
              "      <td>123.067611</td>\n",
              "      <td>142.293544</td>\n",
              "    </tr>\n",
              "    <tr>\n",
              "      <th>71</th>\n",
              "      <td>171.822218</td>\n",
              "      <td>140.124092</td>\n",
              "    </tr>\n",
              "    <tr>\n",
              "      <th>72</th>\n",
              "      <td>88.135994</td>\n",
              "      <td>141.393091</td>\n",
              "    </tr>\n",
              "    <tr>\n",
              "      <th>73</th>\n",
              "      <td>145.150397</td>\n",
              "      <td>131.370530</td>\n",
              "    </tr>\n",
              "    <tr>\n",
              "      <th>74</th>\n",
              "      <td>170.854823</td>\n",
              "      <td>144.502647</td>\n",
              "    </tr>\n",
              "  </tbody>\n",
              "</table>\n",
              "</div>\n",
              "    <div class=\"colab-df-buttons\">\n",
              "\n",
              "  <div class=\"colab-df-container\">\n",
              "    <button class=\"colab-df-convert\" onclick=\"convertToInteractive('df-2eaa1648-9fba-4d48-acd2-c22cece1df6d')\"\n",
              "            title=\"Convert this dataframe to an interactive table.\"\n",
              "            style=\"display:none;\">\n",
              "\n",
              "  <svg xmlns=\"http://www.w3.org/2000/svg\" height=\"24px\" viewBox=\"0 -960 960 960\">\n",
              "    <path d=\"M120-120v-720h720v720H120Zm60-500h600v-160H180v160Zm220 220h160v-160H400v160Zm0 220h160v-160H400v160ZM180-400h160v-160H180v160Zm440 0h160v-160H620v160ZM180-180h160v-160H180v160Zm440 0h160v-160H620v160Z\"/>\n",
              "  </svg>\n",
              "    </button>\n",
              "\n",
              "  <style>\n",
              "    .colab-df-container {\n",
              "      display:flex;\n",
              "      gap: 12px;\n",
              "    }\n",
              "\n",
              "    .colab-df-convert {\n",
              "      background-color: #E8F0FE;\n",
              "      border: none;\n",
              "      border-radius: 50%;\n",
              "      cursor: pointer;\n",
              "      display: none;\n",
              "      fill: #1967D2;\n",
              "      height: 32px;\n",
              "      padding: 0 0 0 0;\n",
              "      width: 32px;\n",
              "    }\n",
              "\n",
              "    .colab-df-convert:hover {\n",
              "      background-color: #E2EBFA;\n",
              "      box-shadow: 0px 1px 2px rgba(60, 64, 67, 0.3), 0px 1px 3px 1px rgba(60, 64, 67, 0.15);\n",
              "      fill: #174EA6;\n",
              "    }\n",
              "\n",
              "    .colab-df-buttons div {\n",
              "      margin-bottom: 4px;\n",
              "    }\n",
              "\n",
              "    [theme=dark] .colab-df-convert {\n",
              "      background-color: #3B4455;\n",
              "      fill: #D2E3FC;\n",
              "    }\n",
              "\n",
              "    [theme=dark] .colab-df-convert:hover {\n",
              "      background-color: #434B5C;\n",
              "      box-shadow: 0px 1px 3px 1px rgba(0, 0, 0, 0.15);\n",
              "      filter: drop-shadow(0px 1px 2px rgba(0, 0, 0, 0.3));\n",
              "      fill: #FFFFFF;\n",
              "    }\n",
              "  </style>\n",
              "\n",
              "    <script>\n",
              "      const buttonEl =\n",
              "        document.querySelector('#df-2eaa1648-9fba-4d48-acd2-c22cece1df6d button.colab-df-convert');\n",
              "      buttonEl.style.display =\n",
              "        google.colab.kernel.accessAllowed ? 'block' : 'none';\n",
              "\n",
              "      async function convertToInteractive(key) {\n",
              "        const element = document.querySelector('#df-2eaa1648-9fba-4d48-acd2-c22cece1df6d');\n",
              "        const dataTable =\n",
              "          await google.colab.kernel.invokeFunction('convertToInteractive',\n",
              "                                                    [key], {});\n",
              "        if (!dataTable) return;\n",
              "\n",
              "        const docLinkHtml = 'Like what you see? Visit the ' +\n",
              "          '<a target=\"_blank\" href=https://colab.research.google.com/notebooks/data_table.ipynb>data table notebook</a>'\n",
              "          + ' to learn more about interactive tables.';\n",
              "        element.innerHTML = '';\n",
              "        dataTable['output_type'] = 'display_data';\n",
              "        await google.colab.output.renderOutput(dataTable, element);\n",
              "        const docLink = document.createElement('div');\n",
              "        docLink.innerHTML = docLinkHtml;\n",
              "        element.appendChild(docLink);\n",
              "      }\n",
              "    </script>\n",
              "  </div>\n",
              "\n",
              "\n",
              "<div id=\"df-b1a48838-ccb5-410d-bb0a-cc2241206acd\">\n",
              "  <button class=\"colab-df-quickchart\" onclick=\"quickchart('df-b1a48838-ccb5-410d-bb0a-cc2241206acd')\"\n",
              "            title=\"Suggest charts.\"\n",
              "            style=\"display:none;\">\n",
              "\n",
              "<svg xmlns=\"http://www.w3.org/2000/svg\" height=\"24px\"viewBox=\"0 0 24 24\"\n",
              "     width=\"24px\">\n",
              "    <g>\n",
              "        <path d=\"M19 3H5c-1.1 0-2 .9-2 2v14c0 1.1.9 2 2 2h14c1.1 0 2-.9 2-2V5c0-1.1-.9-2-2-2zM9 17H7v-7h2v7zm4 0h-2V7h2v10zm4 0h-2v-4h2v4z\"/>\n",
              "    </g>\n",
              "</svg>\n",
              "  </button>\n",
              "\n",
              "<style>\n",
              "  .colab-df-quickchart {\n",
              "      --bg-color: #E8F0FE;\n",
              "      --fill-color: #1967D2;\n",
              "      --hover-bg-color: #E2EBFA;\n",
              "      --hover-fill-color: #174EA6;\n",
              "      --disabled-fill-color: #AAA;\n",
              "      --disabled-bg-color: #DDD;\n",
              "  }\n",
              "\n",
              "  [theme=dark] .colab-df-quickchart {\n",
              "      --bg-color: #3B4455;\n",
              "      --fill-color: #D2E3FC;\n",
              "      --hover-bg-color: #434B5C;\n",
              "      --hover-fill-color: #FFFFFF;\n",
              "      --disabled-bg-color: #3B4455;\n",
              "      --disabled-fill-color: #666;\n",
              "  }\n",
              "\n",
              "  .colab-df-quickchart {\n",
              "    background-color: var(--bg-color);\n",
              "    border: none;\n",
              "    border-radius: 50%;\n",
              "    cursor: pointer;\n",
              "    display: none;\n",
              "    fill: var(--fill-color);\n",
              "    height: 32px;\n",
              "    padding: 0;\n",
              "    width: 32px;\n",
              "  }\n",
              "\n",
              "  .colab-df-quickchart:hover {\n",
              "    background-color: var(--hover-bg-color);\n",
              "    box-shadow: 0 1px 2px rgba(60, 64, 67, 0.3), 0 1px 3px 1px rgba(60, 64, 67, 0.15);\n",
              "    fill: var(--button-hover-fill-color);\n",
              "  }\n",
              "\n",
              "  .colab-df-quickchart-complete:disabled,\n",
              "  .colab-df-quickchart-complete:disabled:hover {\n",
              "    background-color: var(--disabled-bg-color);\n",
              "    fill: var(--disabled-fill-color);\n",
              "    box-shadow: none;\n",
              "  }\n",
              "\n",
              "  .colab-df-spinner {\n",
              "    border: 2px solid var(--fill-color);\n",
              "    border-color: transparent;\n",
              "    border-bottom-color: var(--fill-color);\n",
              "    animation:\n",
              "      spin 1s steps(1) infinite;\n",
              "  }\n",
              "\n",
              "  @keyframes spin {\n",
              "    0% {\n",
              "      border-color: transparent;\n",
              "      border-bottom-color: var(--fill-color);\n",
              "      border-left-color: var(--fill-color);\n",
              "    }\n",
              "    20% {\n",
              "      border-color: transparent;\n",
              "      border-left-color: var(--fill-color);\n",
              "      border-top-color: var(--fill-color);\n",
              "    }\n",
              "    30% {\n",
              "      border-color: transparent;\n",
              "      border-left-color: var(--fill-color);\n",
              "      border-top-color: var(--fill-color);\n",
              "      border-right-color: var(--fill-color);\n",
              "    }\n",
              "    40% {\n",
              "      border-color: transparent;\n",
              "      border-right-color: var(--fill-color);\n",
              "      border-top-color: var(--fill-color);\n",
              "    }\n",
              "    60% {\n",
              "      border-color: transparent;\n",
              "      border-right-color: var(--fill-color);\n",
              "    }\n",
              "    80% {\n",
              "      border-color: transparent;\n",
              "      border-right-color: var(--fill-color);\n",
              "      border-bottom-color: var(--fill-color);\n",
              "    }\n",
              "    90% {\n",
              "      border-color: transparent;\n",
              "      border-bottom-color: var(--fill-color);\n",
              "    }\n",
              "  }\n",
              "</style>\n",
              "\n",
              "  <script>\n",
              "    async function quickchart(key) {\n",
              "      const quickchartButtonEl =\n",
              "        document.querySelector('#' + key + ' button');\n",
              "      quickchartButtonEl.disabled = true;  // To prevent multiple clicks.\n",
              "      quickchartButtonEl.classList.add('colab-df-spinner');\n",
              "      try {\n",
              "        const charts = await google.colab.kernel.invokeFunction(\n",
              "            'suggestCharts', [key], {});\n",
              "      } catch (error) {\n",
              "        console.error('Error during call to suggestCharts:', error);\n",
              "      }\n",
              "      quickchartButtonEl.classList.remove('colab-df-spinner');\n",
              "      quickchartButtonEl.classList.add('colab-df-quickchart-complete');\n",
              "    }\n",
              "    (() => {\n",
              "      let quickchartButtonEl =\n",
              "        document.querySelector('#df-b1a48838-ccb5-410d-bb0a-cc2241206acd button');\n",
              "      quickchartButtonEl.style.display =\n",
              "        google.colab.kernel.accessAllowed ? 'block' : 'none';\n",
              "    })();\n",
              "  </script>\n",
              "</div>\n",
              "    </div>\n",
              "  </div>\n"
            ]
          },
          "metadata": {},
          "execution_count": 590
        }
      ]
    },
    {
      "cell_type": "code",
      "source": [
        "df.shape"
      ],
      "metadata": {
        "colab": {
          "base_uri": "https://localhost:8080/"
        },
        "id": "8Hz6W79swoCr",
        "outputId": "8c7de1df-65dc-46ff-9b40-64a36aba77c9"
      },
      "execution_count": 591,
      "outputs": [
        {
          "output_type": "execute_result",
          "data": {
            "text/plain": [
              "(75, 2)"
            ]
          },
          "metadata": {},
          "execution_count": 591
        }
      ]
    },
    {
      "cell_type": "markdown",
      "source": [
        "the dataframe has 75 rows and 2 columns"
      ],
      "metadata": {
        "id": "5fTeb2SGws__"
      }
    },
    {
      "cell_type": "code",
      "source": [
        "df.info()"
      ],
      "metadata": {
        "colab": {
          "base_uri": "https://localhost:8080/"
        },
        "id": "nMxN65ofwzPp",
        "outputId": "5d002d64-3b81-42de-cac1-5717aaf8d65d"
      },
      "execution_count": 592,
      "outputs": [
        {
          "output_type": "stream",
          "name": "stdout",
          "text": [
            "<class 'pandas.core.frame.DataFrame'>\n",
            "RangeIndex: 75 entries, 0 to 74\n",
            "Data columns (total 2 columns):\n",
            " #   Column                Non-Null Count  Dtype  \n",
            "---  ------                --------------  -----  \n",
            " 0   Unpolished            75 non-null     float64\n",
            " 1   Treated and Polished  75 non-null     float64\n",
            "dtypes: float64(2)\n",
            "memory usage: 1.3 KB\n"
          ]
        }
      ]
    },
    {
      "cell_type": "markdown",
      "source": [
        "the dataset has only float data types"
      ],
      "metadata": {
        "id": "uz7R-RQzxFla"
      }
    },
    {
      "cell_type": "code",
      "source": [
        "df.isnull().sum()"
      ],
      "metadata": {
        "colab": {
          "base_uri": "https://localhost:8080/"
        },
        "id": "dS3zon5SxLfL",
        "outputId": "2c6139a0-bd87-4d03-dca1-50404009a9a5"
      },
      "execution_count": 593,
      "outputs": [
        {
          "output_type": "execute_result",
          "data": {
            "text/plain": [
              "Unpolished              0\n",
              "Treated and Polished    0\n",
              "dtype: int64"
            ]
          },
          "metadata": {},
          "execution_count": 593
        }
      ]
    },
    {
      "cell_type": "markdown",
      "source": [
        "The data is clean it doesn't have any missing values or null values"
      ],
      "metadata": {
        "id": "tSQANYp2xTe5"
      }
    },
    {
      "cell_type": "markdown",
      "source": [
        "3.1 Zingaro has reason to believe that the unpolished stones may not be suitable for printing. Do you think Zingaro is justified in thinking so?"
      ],
      "metadata": {
        "id": "AutG--BExgKg"
      }
    },
    {
      "cell_type": "code",
      "source": [
        "import pandas as pd\n",
        "import numpy as np\n",
        "from scipy import stats\n",
        "path=\"/Zingaro_Company.csv\"\n",
        "data = pd.read_csv(path)\n",
        "unpolished_stones = data['Unpolished ']\n",
        "# given mean is 150\n",
        "# given lvl of significance is 0.05\n",
        "mean = 150\n",
        "level_of_significance = 0.05\n",
        "sample_mean = np.mean(unpolished_stones)\n",
        "sample_stddev = np.std(unpolished_stones, ddof=1)\n",
        "sample_size = len(unpolished_stones)\n",
        "population_mean = 150\n",
        "#formula for t-statistic\n",
        "t_statistic = (sample_mean - population_mean) / (sample_stddev / np.sqrt(sample_size))\n",
        "p_value = stats.t.cdf(t_statistic, df=sample_size - 1)\n",
        "alpha_value= 0.05\n",
        "if p_value < alpha_value:\n",
        "    print(\"Zingaro has evidence to reject null hypothesis since p value < level of significance\")\n",
        "else:\n",
        "    print(\"Zingaro does not have evidence to reject null hypothesis since p value > level of significance\")\n",
        ""
      ],
      "metadata": {
        "colab": {
          "base_uri": "https://localhost:8080/"
        },
        "id": "FkIRLUjJxh_c",
        "outputId": "b733ce8a-fc9a-41c4-b06c-c1ced122cf9b"
      },
      "execution_count": 594,
      "outputs": [
        {
          "output_type": "stream",
          "name": "stdout",
          "text": [
            "Zingaro has evidence to reject null hypothesis since p value < level of significance\n"
          ]
        }
      ]
    },
    {
      "cell_type": "markdown",
      "source": [
        "Here, p value is 4.171 and it is greater than 5% level of sifnificance\n",
        "\n",
        "so the statistical decision is failing to reject null hypothesis\n",
        "## so at 95% confidence level there is evidence to prove that unpolished stones may not be suitable for printing"
      ],
      "metadata": {
        "id": "1XuOqunzTNMM"
      }
    },
    {
      "cell_type": "markdown",
      "source": [
        "Null Hypothesis (H0): The mean hardness index of unpolished stones is greater than or equal to 150.\n",
        "\n",
        "Alternative Hypothesis (H1): The mean hardness index of unpolished stones is less than 150.\n",
        "\n",
        "We will use a one-sample t-test to compare the sample mean of the hardness index of unpolished stones to the threshold of 150. If the p-value from the test is less than the significance level of 0.05 (5%), we can reject the null hypothesis and conclude that there is evidence that the unpolished stones may not be suitable for printing."
      ],
      "metadata": {
        "id": "joKlGpIoxgNV"
      }
    },
    {
      "cell_type": "markdown",
      "source": [
        "3.2 Is the mean hardness of the polished and unpolished stones the same?"
      ],
      "metadata": {
        "id": "L3LMGcox_950"
      }
    },
    {
      "cell_type": "code",
      "source": [
        "import pandas as pd\n",
        "from scipy import stats\n",
        "path =\"/Zingaro_Company.csv\"\n",
        "data = pd.read_csv(path)\n",
        "unpolished_hardness = data['Unpolished '].values\n",
        "polished_hardness = data['Treated and Polished'].values\n",
        "\n",
        "# Perform a two-sample t-test\n",
        "t_statistic, p_value = stats.ttest_ind(unpolished_hardness, polished_hardness)\n",
        "\n",
        "# Compare p-value to the significance level\n",
        "alpha = 0.05\n",
        "if p_value < alpha:\n",
        "    print(\"There is evidence that the mean hardness of unpolished and treated/polished stones is different.\")\n",
        "    print(\"p-value:\", p_value)\n",
        "else:\n",
        "    print(\"There is no evidence to suggest that the mean hardness of unpolished and treated/polished stones is different.\")\n",
        "    print(\"p-value:\", p_value)"
      ],
      "metadata": {
        "colab": {
          "base_uri": "https://localhost:8080/"
        },
        "id": "Fg43JykNABoq",
        "outputId": "3154c9c8-1185-4b0f-81e5-d9b0375f40e8"
      },
      "execution_count": 595,
      "outputs": [
        {
          "output_type": "stream",
          "name": "stdout",
          "text": [
            "There is evidence that the mean hardness of unpolished and treated/polished stones is different.\n",
            "p-value: 0.0014655150194628353\n"
          ]
        }
      ]
    },
    {
      "cell_type": "markdown",
      "source": [
        "# Another method to solve the problem"
      ],
      "metadata": {
        "id": "jJR8B2KGYkwh"
      }
    },
    {
      "cell_type": "code",
      "source": [
        "import pandas as pd\n",
        "from scipy import stats\n",
        "path =\"/Zingaro_Company.csv\"\n",
        "data = pd.read_csv(path)\n",
        "unpolished_hardness = data['Unpolished '].values\n",
        "polished_hardness = data['Treated and Polished'].values\n",
        "mean_1 = sum(unpolished_hardness) / len(unpolished_hardness)\n",
        "print(\" mean of unposlished stones\", mean_1)\n",
        "mean_2= sum(polished_hardness) / len(polished_hardness)\n",
        "print(\" mean of Poslished stones\", mean_2)\n",
        "if mean_1 == mean_2:\n",
        "    print(\"mean hardness of the polished and unpolished stones are same\")\n",
        "else:\n",
        "    print(\" mean hardness of the polished and unpolished stones are not same\")\n"
      ],
      "metadata": {
        "colab": {
          "base_uri": "https://localhost:8080/"
        },
        "id": "ixv2tT7SWzWb",
        "outputId": "8696a3db-fcaa-4929-b10c-7ae39436e143"
      },
      "execution_count": 596,
      "outputs": [
        {
          "output_type": "stream",
          "name": "stdout",
          "text": [
            " mean of unposlished stones 134.11052653373335\n",
            " mean of Poslished stones 147.78811718133335\n",
            " mean hardness of the polished and unpolished stones are not same\n"
          ]
        }
      ]
    },
    {
      "cell_type": "markdown",
      "source": [
        ""
      ],
      "metadata": {
        "id": "WJnHPK39Yr50"
      }
    },
    {
      "cell_type": "markdown",
      "source": [
        "# Problem 4\n",
        "Dental implant data: The hardness of metal implants in dental cavities depends on multiple factors, such as the method of implant, the temperature at which the metal is treated, the alloy used as well as the dentists who may favor one method above another and may work better in his/her favorite method. The response is the variable of interest.\n",
        "\n",
        "4.1 How does the hardness of implants vary depending on dentists?"
      ],
      "metadata": {
        "id": "oTkJ62TDACOE"
      }
    },
    {
      "cell_type": "code",
      "source": [
        "import pandas as pd\n",
        "import statsmodels.api as sm\n",
        "from statsmodels.formula.api import ols\n",
        "%matplotlib inline\n",
        "path = \"/Dental+Hardness+data.xlsx\"\n",
        "df = pd.read_excel(path)\n",
        "\n",
        "model_1 = ols('Response ~ Dentist', data=df).fit()\n",
        "anova_1 = sm.stats.anova_lm(model_1)\n",
        "p_value_1 = anova_1['PR(>F)']['Dentist']\n",
        "if p_value_1 < 0.05:\n",
        "    print(\"There is a significant variation in implant hardness depending on dentists (p < 0.05).\")\n",
        "else:\n",
        "    print(\"There is no significant variation in implant hardness depending on dentists (p > 0.05).\")\n"
      ],
      "metadata": {
        "colab": {
          "base_uri": "https://localhost:8080/"
        },
        "id": "n6czILPbAHtB",
        "outputId": "f5ed55d8-079b-42b0-9edc-c336c6fc579d"
      },
      "execution_count": 597,
      "outputs": [
        {
          "output_type": "stream",
          "name": "stdout",
          "text": [
            "There is a significant variation in implant hardness depending on dentists (p < 0.05).\n"
          ]
        }
      ]
    },
    {
      "cell_type": "markdown",
      "source": [
        "Lets see the data dsicription now"
      ],
      "metadata": {
        "id": "T10qeRVF314Y"
      }
    },
    {
      "cell_type": "code",
      "source": [
        "df.head(5)"
      ],
      "metadata": {
        "colab": {
          "base_uri": "https://localhost:8080/",
          "height": 275
        },
        "id": "Vu8KZTD932IQ",
        "outputId": "85614d7d-5acf-4d2b-c5cf-78bfefe21c36"
      },
      "execution_count": 598,
      "outputs": [
        {
          "output_type": "execute_result",
          "data": {
            "text/plain": [
              "   Dentist  Method  Alloy    Temp  Response  Unnamed: 5  Unnamed: 6  \\\n",
              "0      1.0     1.0    1.0  1500.0     813.0         NaN         NaN   \n",
              "1      1.0     1.0    1.0  1600.0     792.0         NaN         NaN   \n",
              "2      1.0     1.0    1.0  1700.0     792.0         NaN         NaN   \n",
              "3      1.0     1.0    2.0  1500.0     907.0         NaN         NaN   \n",
              "4      1.0     1.0    2.0  1600.0     792.0         NaN         NaN   \n",
              "\n",
              "                              Unnamed: 7 Unnamed: 8 Unnamed: 9 Unnamed: 10  \\\n",
              "0  Anova: Two-Factor Without Replication        NaN        NaN         NaN   \n",
              "1                                    NaN        NaN        NaN         NaN   \n",
              "2                                SUMMARY      Count        Sum     Average   \n",
              "3                                      1          4       2315      578.75   \n",
              "4                                      1          4       2394       598.5   \n",
              "\n",
              "     Unnamed: 11 Unnamed: 12 Unnamed: 13  \n",
              "0            NaN         NaN         NaN  \n",
              "1            NaN         NaN         NaN  \n",
              "2       Variance         NaN         NaN  \n",
              "3  523721.583333         NaN         NaN  \n",
              "4         584819         NaN         NaN  "
            ],
            "text/html": [
              "\n",
              "  <div id=\"df-33d32013-7d31-46ad-af18-447b41e3173b\" class=\"colab-df-container\">\n",
              "    <div>\n",
              "<style scoped>\n",
              "    .dataframe tbody tr th:only-of-type {\n",
              "        vertical-align: middle;\n",
              "    }\n",
              "\n",
              "    .dataframe tbody tr th {\n",
              "        vertical-align: top;\n",
              "    }\n",
              "\n",
              "    .dataframe thead th {\n",
              "        text-align: right;\n",
              "    }\n",
              "</style>\n",
              "<table border=\"1\" class=\"dataframe\">\n",
              "  <thead>\n",
              "    <tr style=\"text-align: right;\">\n",
              "      <th></th>\n",
              "      <th>Dentist</th>\n",
              "      <th>Method</th>\n",
              "      <th>Alloy</th>\n",
              "      <th>Temp</th>\n",
              "      <th>Response</th>\n",
              "      <th>Unnamed: 5</th>\n",
              "      <th>Unnamed: 6</th>\n",
              "      <th>Unnamed: 7</th>\n",
              "      <th>Unnamed: 8</th>\n",
              "      <th>Unnamed: 9</th>\n",
              "      <th>Unnamed: 10</th>\n",
              "      <th>Unnamed: 11</th>\n",
              "      <th>Unnamed: 12</th>\n",
              "      <th>Unnamed: 13</th>\n",
              "    </tr>\n",
              "  </thead>\n",
              "  <tbody>\n",
              "    <tr>\n",
              "      <th>0</th>\n",
              "      <td>1.0</td>\n",
              "      <td>1.0</td>\n",
              "      <td>1.0</td>\n",
              "      <td>1500.0</td>\n",
              "      <td>813.0</td>\n",
              "      <td>NaN</td>\n",
              "      <td>NaN</td>\n",
              "      <td>Anova: Two-Factor Without Replication</td>\n",
              "      <td>NaN</td>\n",
              "      <td>NaN</td>\n",
              "      <td>NaN</td>\n",
              "      <td>NaN</td>\n",
              "      <td>NaN</td>\n",
              "      <td>NaN</td>\n",
              "    </tr>\n",
              "    <tr>\n",
              "      <th>1</th>\n",
              "      <td>1.0</td>\n",
              "      <td>1.0</td>\n",
              "      <td>1.0</td>\n",
              "      <td>1600.0</td>\n",
              "      <td>792.0</td>\n",
              "      <td>NaN</td>\n",
              "      <td>NaN</td>\n",
              "      <td>NaN</td>\n",
              "      <td>NaN</td>\n",
              "      <td>NaN</td>\n",
              "      <td>NaN</td>\n",
              "      <td>NaN</td>\n",
              "      <td>NaN</td>\n",
              "      <td>NaN</td>\n",
              "    </tr>\n",
              "    <tr>\n",
              "      <th>2</th>\n",
              "      <td>1.0</td>\n",
              "      <td>1.0</td>\n",
              "      <td>1.0</td>\n",
              "      <td>1700.0</td>\n",
              "      <td>792.0</td>\n",
              "      <td>NaN</td>\n",
              "      <td>NaN</td>\n",
              "      <td>SUMMARY</td>\n",
              "      <td>Count</td>\n",
              "      <td>Sum</td>\n",
              "      <td>Average</td>\n",
              "      <td>Variance</td>\n",
              "      <td>NaN</td>\n",
              "      <td>NaN</td>\n",
              "    </tr>\n",
              "    <tr>\n",
              "      <th>3</th>\n",
              "      <td>1.0</td>\n",
              "      <td>1.0</td>\n",
              "      <td>2.0</td>\n",
              "      <td>1500.0</td>\n",
              "      <td>907.0</td>\n",
              "      <td>NaN</td>\n",
              "      <td>NaN</td>\n",
              "      <td>1</td>\n",
              "      <td>4</td>\n",
              "      <td>2315</td>\n",
              "      <td>578.75</td>\n",
              "      <td>523721.583333</td>\n",
              "      <td>NaN</td>\n",
              "      <td>NaN</td>\n",
              "    </tr>\n",
              "    <tr>\n",
              "      <th>4</th>\n",
              "      <td>1.0</td>\n",
              "      <td>1.0</td>\n",
              "      <td>2.0</td>\n",
              "      <td>1600.0</td>\n",
              "      <td>792.0</td>\n",
              "      <td>NaN</td>\n",
              "      <td>NaN</td>\n",
              "      <td>1</td>\n",
              "      <td>4</td>\n",
              "      <td>2394</td>\n",
              "      <td>598.5</td>\n",
              "      <td>584819</td>\n",
              "      <td>NaN</td>\n",
              "      <td>NaN</td>\n",
              "    </tr>\n",
              "  </tbody>\n",
              "</table>\n",
              "</div>\n",
              "    <div class=\"colab-df-buttons\">\n",
              "\n",
              "  <div class=\"colab-df-container\">\n",
              "    <button class=\"colab-df-convert\" onclick=\"convertToInteractive('df-33d32013-7d31-46ad-af18-447b41e3173b')\"\n",
              "            title=\"Convert this dataframe to an interactive table.\"\n",
              "            style=\"display:none;\">\n",
              "\n",
              "  <svg xmlns=\"http://www.w3.org/2000/svg\" height=\"24px\" viewBox=\"0 -960 960 960\">\n",
              "    <path d=\"M120-120v-720h720v720H120Zm60-500h600v-160H180v160Zm220 220h160v-160H400v160Zm0 220h160v-160H400v160ZM180-400h160v-160H180v160Zm440 0h160v-160H620v160ZM180-180h160v-160H180v160Zm440 0h160v-160H620v160Z\"/>\n",
              "  </svg>\n",
              "    </button>\n",
              "\n",
              "  <style>\n",
              "    .colab-df-container {\n",
              "      display:flex;\n",
              "      gap: 12px;\n",
              "    }\n",
              "\n",
              "    .colab-df-convert {\n",
              "      background-color: #E8F0FE;\n",
              "      border: none;\n",
              "      border-radius: 50%;\n",
              "      cursor: pointer;\n",
              "      display: none;\n",
              "      fill: #1967D2;\n",
              "      height: 32px;\n",
              "      padding: 0 0 0 0;\n",
              "      width: 32px;\n",
              "    }\n",
              "\n",
              "    .colab-df-convert:hover {\n",
              "      background-color: #E2EBFA;\n",
              "      box-shadow: 0px 1px 2px rgba(60, 64, 67, 0.3), 0px 1px 3px 1px rgba(60, 64, 67, 0.15);\n",
              "      fill: #174EA6;\n",
              "    }\n",
              "\n",
              "    .colab-df-buttons div {\n",
              "      margin-bottom: 4px;\n",
              "    }\n",
              "\n",
              "    [theme=dark] .colab-df-convert {\n",
              "      background-color: #3B4455;\n",
              "      fill: #D2E3FC;\n",
              "    }\n",
              "\n",
              "    [theme=dark] .colab-df-convert:hover {\n",
              "      background-color: #434B5C;\n",
              "      box-shadow: 0px 1px 3px 1px rgba(0, 0, 0, 0.15);\n",
              "      filter: drop-shadow(0px 1px 2px rgba(0, 0, 0, 0.3));\n",
              "      fill: #FFFFFF;\n",
              "    }\n",
              "  </style>\n",
              "\n",
              "    <script>\n",
              "      const buttonEl =\n",
              "        document.querySelector('#df-33d32013-7d31-46ad-af18-447b41e3173b button.colab-df-convert');\n",
              "      buttonEl.style.display =\n",
              "        google.colab.kernel.accessAllowed ? 'block' : 'none';\n",
              "\n",
              "      async function convertToInteractive(key) {\n",
              "        const element = document.querySelector('#df-33d32013-7d31-46ad-af18-447b41e3173b');\n",
              "        const dataTable =\n",
              "          await google.colab.kernel.invokeFunction('convertToInteractive',\n",
              "                                                    [key], {});\n",
              "        if (!dataTable) return;\n",
              "\n",
              "        const docLinkHtml = 'Like what you see? Visit the ' +\n",
              "          '<a target=\"_blank\" href=https://colab.research.google.com/notebooks/data_table.ipynb>data table notebook</a>'\n",
              "          + ' to learn more about interactive tables.';\n",
              "        element.innerHTML = '';\n",
              "        dataTable['output_type'] = 'display_data';\n",
              "        await google.colab.output.renderOutput(dataTable, element);\n",
              "        const docLink = document.createElement('div');\n",
              "        docLink.innerHTML = docLinkHtml;\n",
              "        element.appendChild(docLink);\n",
              "      }\n",
              "    </script>\n",
              "  </div>\n",
              "\n",
              "\n",
              "<div id=\"df-1aa26a4d-fd80-43b9-a9a3-6e825457319c\">\n",
              "  <button class=\"colab-df-quickchart\" onclick=\"quickchart('df-1aa26a4d-fd80-43b9-a9a3-6e825457319c')\"\n",
              "            title=\"Suggest charts.\"\n",
              "            style=\"display:none;\">\n",
              "\n",
              "<svg xmlns=\"http://www.w3.org/2000/svg\" height=\"24px\"viewBox=\"0 0 24 24\"\n",
              "     width=\"24px\">\n",
              "    <g>\n",
              "        <path d=\"M19 3H5c-1.1 0-2 .9-2 2v14c0 1.1.9 2 2 2h14c1.1 0 2-.9 2-2V5c0-1.1-.9-2-2-2zM9 17H7v-7h2v7zm4 0h-2V7h2v10zm4 0h-2v-4h2v4z\"/>\n",
              "    </g>\n",
              "</svg>\n",
              "  </button>\n",
              "\n",
              "<style>\n",
              "  .colab-df-quickchart {\n",
              "      --bg-color: #E8F0FE;\n",
              "      --fill-color: #1967D2;\n",
              "      --hover-bg-color: #E2EBFA;\n",
              "      --hover-fill-color: #174EA6;\n",
              "      --disabled-fill-color: #AAA;\n",
              "      --disabled-bg-color: #DDD;\n",
              "  }\n",
              "\n",
              "  [theme=dark] .colab-df-quickchart {\n",
              "      --bg-color: #3B4455;\n",
              "      --fill-color: #D2E3FC;\n",
              "      --hover-bg-color: #434B5C;\n",
              "      --hover-fill-color: #FFFFFF;\n",
              "      --disabled-bg-color: #3B4455;\n",
              "      --disabled-fill-color: #666;\n",
              "  }\n",
              "\n",
              "  .colab-df-quickchart {\n",
              "    background-color: var(--bg-color);\n",
              "    border: none;\n",
              "    border-radius: 50%;\n",
              "    cursor: pointer;\n",
              "    display: none;\n",
              "    fill: var(--fill-color);\n",
              "    height: 32px;\n",
              "    padding: 0;\n",
              "    width: 32px;\n",
              "  }\n",
              "\n",
              "  .colab-df-quickchart:hover {\n",
              "    background-color: var(--hover-bg-color);\n",
              "    box-shadow: 0 1px 2px rgba(60, 64, 67, 0.3), 0 1px 3px 1px rgba(60, 64, 67, 0.15);\n",
              "    fill: var(--button-hover-fill-color);\n",
              "  }\n",
              "\n",
              "  .colab-df-quickchart-complete:disabled,\n",
              "  .colab-df-quickchart-complete:disabled:hover {\n",
              "    background-color: var(--disabled-bg-color);\n",
              "    fill: var(--disabled-fill-color);\n",
              "    box-shadow: none;\n",
              "  }\n",
              "\n",
              "  .colab-df-spinner {\n",
              "    border: 2px solid var(--fill-color);\n",
              "    border-color: transparent;\n",
              "    border-bottom-color: var(--fill-color);\n",
              "    animation:\n",
              "      spin 1s steps(1) infinite;\n",
              "  }\n",
              "\n",
              "  @keyframes spin {\n",
              "    0% {\n",
              "      border-color: transparent;\n",
              "      border-bottom-color: var(--fill-color);\n",
              "      border-left-color: var(--fill-color);\n",
              "    }\n",
              "    20% {\n",
              "      border-color: transparent;\n",
              "      border-left-color: var(--fill-color);\n",
              "      border-top-color: var(--fill-color);\n",
              "    }\n",
              "    30% {\n",
              "      border-color: transparent;\n",
              "      border-left-color: var(--fill-color);\n",
              "      border-top-color: var(--fill-color);\n",
              "      border-right-color: var(--fill-color);\n",
              "    }\n",
              "    40% {\n",
              "      border-color: transparent;\n",
              "      border-right-color: var(--fill-color);\n",
              "      border-top-color: var(--fill-color);\n",
              "    }\n",
              "    60% {\n",
              "      border-color: transparent;\n",
              "      border-right-color: var(--fill-color);\n",
              "    }\n",
              "    80% {\n",
              "      border-color: transparent;\n",
              "      border-right-color: var(--fill-color);\n",
              "      border-bottom-color: var(--fill-color);\n",
              "    }\n",
              "    90% {\n",
              "      border-color: transparent;\n",
              "      border-bottom-color: var(--fill-color);\n",
              "    }\n",
              "  }\n",
              "</style>\n",
              "\n",
              "  <script>\n",
              "    async function quickchart(key) {\n",
              "      const quickchartButtonEl =\n",
              "        document.querySelector('#' + key + ' button');\n",
              "      quickchartButtonEl.disabled = true;  // To prevent multiple clicks.\n",
              "      quickchartButtonEl.classList.add('colab-df-spinner');\n",
              "      try {\n",
              "        const charts = await google.colab.kernel.invokeFunction(\n",
              "            'suggestCharts', [key], {});\n",
              "      } catch (error) {\n",
              "        console.error('Error during call to suggestCharts:', error);\n",
              "      }\n",
              "      quickchartButtonEl.classList.remove('colab-df-spinner');\n",
              "      quickchartButtonEl.classList.add('colab-df-quickchart-complete');\n",
              "    }\n",
              "    (() => {\n",
              "      let quickchartButtonEl =\n",
              "        document.querySelector('#df-1aa26a4d-fd80-43b9-a9a3-6e825457319c button');\n",
              "      quickchartButtonEl.style.display =\n",
              "        google.colab.kernel.accessAllowed ? 'block' : 'none';\n",
              "    })();\n",
              "  </script>\n",
              "</div>\n",
              "    </div>\n",
              "  </div>\n"
            ]
          },
          "metadata": {},
          "execution_count": 598
        }
      ]
    },
    {
      "cell_type": "code",
      "source": [
        "df.tail(5)"
      ],
      "metadata": {
        "colab": {
          "base_uri": "https://localhost:8080/",
          "height": 243
        },
        "id": "ugtrmq_k4Gng",
        "outputId": "10bf749e-126b-4f5b-e53d-6ec3d010bcb4"
      },
      "execution_count": 599,
      "outputs": [
        {
          "output_type": "execute_result",
          "data": {
            "text/plain": [
              "     Dentist  Method  Alloy  Temp  Response  Unnamed: 5  Unnamed: 6  \\\n",
              "102      NaN     NaN    NaN   NaN       NaN         NaN         NaN   \n",
              "103      NaN     NaN    NaN   NaN       NaN         NaN         NaN   \n",
              "104      NaN     NaN    NaN   NaN       NaN         NaN         NaN   \n",
              "105      NaN     NaN    NaN   NaN       NaN         NaN         NaN   \n",
              "106      NaN     NaN    NaN   NaN       NaN         NaN         NaN   \n",
              "\n",
              "    Unnamed: 7        Unnamed: 8 Unnamed: 9      Unnamed: 10  Unnamed: 11  \\\n",
              "102       Rows     513114.013889         89      5765.325999     0.778206   \n",
              "103    Columns  156164270.208333          3  52054756.736111  7026.375161   \n",
              "104      Error    1978064.041667        267      7408.479557          NaN   \n",
              "105        NaN               NaN        NaN              NaN          NaN   \n",
              "106      Total  158655448.263889        359              NaN          NaN   \n",
              "\n",
              "    Unnamed: 12 Unnamed: 13  \n",
              "102    0.917216    1.315369  \n",
              "103         0.0    2.638412  \n",
              "104         NaN         NaN  \n",
              "105         NaN         NaN  \n",
              "106         NaN         NaN  "
            ],
            "text/html": [
              "\n",
              "  <div id=\"df-dff38b21-a5d6-4e01-b50b-a100a60e53fa\" class=\"colab-df-container\">\n",
              "    <div>\n",
              "<style scoped>\n",
              "    .dataframe tbody tr th:only-of-type {\n",
              "        vertical-align: middle;\n",
              "    }\n",
              "\n",
              "    .dataframe tbody tr th {\n",
              "        vertical-align: top;\n",
              "    }\n",
              "\n",
              "    .dataframe thead th {\n",
              "        text-align: right;\n",
              "    }\n",
              "</style>\n",
              "<table border=\"1\" class=\"dataframe\">\n",
              "  <thead>\n",
              "    <tr style=\"text-align: right;\">\n",
              "      <th></th>\n",
              "      <th>Dentist</th>\n",
              "      <th>Method</th>\n",
              "      <th>Alloy</th>\n",
              "      <th>Temp</th>\n",
              "      <th>Response</th>\n",
              "      <th>Unnamed: 5</th>\n",
              "      <th>Unnamed: 6</th>\n",
              "      <th>Unnamed: 7</th>\n",
              "      <th>Unnamed: 8</th>\n",
              "      <th>Unnamed: 9</th>\n",
              "      <th>Unnamed: 10</th>\n",
              "      <th>Unnamed: 11</th>\n",
              "      <th>Unnamed: 12</th>\n",
              "      <th>Unnamed: 13</th>\n",
              "    </tr>\n",
              "  </thead>\n",
              "  <tbody>\n",
              "    <tr>\n",
              "      <th>102</th>\n",
              "      <td>NaN</td>\n",
              "      <td>NaN</td>\n",
              "      <td>NaN</td>\n",
              "      <td>NaN</td>\n",
              "      <td>NaN</td>\n",
              "      <td>NaN</td>\n",
              "      <td>NaN</td>\n",
              "      <td>Rows</td>\n",
              "      <td>513114.013889</td>\n",
              "      <td>89</td>\n",
              "      <td>5765.325999</td>\n",
              "      <td>0.778206</td>\n",
              "      <td>0.917216</td>\n",
              "      <td>1.315369</td>\n",
              "    </tr>\n",
              "    <tr>\n",
              "      <th>103</th>\n",
              "      <td>NaN</td>\n",
              "      <td>NaN</td>\n",
              "      <td>NaN</td>\n",
              "      <td>NaN</td>\n",
              "      <td>NaN</td>\n",
              "      <td>NaN</td>\n",
              "      <td>NaN</td>\n",
              "      <td>Columns</td>\n",
              "      <td>156164270.208333</td>\n",
              "      <td>3</td>\n",
              "      <td>52054756.736111</td>\n",
              "      <td>7026.375161</td>\n",
              "      <td>0.0</td>\n",
              "      <td>2.638412</td>\n",
              "    </tr>\n",
              "    <tr>\n",
              "      <th>104</th>\n",
              "      <td>NaN</td>\n",
              "      <td>NaN</td>\n",
              "      <td>NaN</td>\n",
              "      <td>NaN</td>\n",
              "      <td>NaN</td>\n",
              "      <td>NaN</td>\n",
              "      <td>NaN</td>\n",
              "      <td>Error</td>\n",
              "      <td>1978064.041667</td>\n",
              "      <td>267</td>\n",
              "      <td>7408.479557</td>\n",
              "      <td>NaN</td>\n",
              "      <td>NaN</td>\n",
              "      <td>NaN</td>\n",
              "    </tr>\n",
              "    <tr>\n",
              "      <th>105</th>\n",
              "      <td>NaN</td>\n",
              "      <td>NaN</td>\n",
              "      <td>NaN</td>\n",
              "      <td>NaN</td>\n",
              "      <td>NaN</td>\n",
              "      <td>NaN</td>\n",
              "      <td>NaN</td>\n",
              "      <td>NaN</td>\n",
              "      <td>NaN</td>\n",
              "      <td>NaN</td>\n",
              "      <td>NaN</td>\n",
              "      <td>NaN</td>\n",
              "      <td>NaN</td>\n",
              "      <td>NaN</td>\n",
              "    </tr>\n",
              "    <tr>\n",
              "      <th>106</th>\n",
              "      <td>NaN</td>\n",
              "      <td>NaN</td>\n",
              "      <td>NaN</td>\n",
              "      <td>NaN</td>\n",
              "      <td>NaN</td>\n",
              "      <td>NaN</td>\n",
              "      <td>NaN</td>\n",
              "      <td>Total</td>\n",
              "      <td>158655448.263889</td>\n",
              "      <td>359</td>\n",
              "      <td>NaN</td>\n",
              "      <td>NaN</td>\n",
              "      <td>NaN</td>\n",
              "      <td>NaN</td>\n",
              "    </tr>\n",
              "  </tbody>\n",
              "</table>\n",
              "</div>\n",
              "    <div class=\"colab-df-buttons\">\n",
              "\n",
              "  <div class=\"colab-df-container\">\n",
              "    <button class=\"colab-df-convert\" onclick=\"convertToInteractive('df-dff38b21-a5d6-4e01-b50b-a100a60e53fa')\"\n",
              "            title=\"Convert this dataframe to an interactive table.\"\n",
              "            style=\"display:none;\">\n",
              "\n",
              "  <svg xmlns=\"http://www.w3.org/2000/svg\" height=\"24px\" viewBox=\"0 -960 960 960\">\n",
              "    <path d=\"M120-120v-720h720v720H120Zm60-500h600v-160H180v160Zm220 220h160v-160H400v160Zm0 220h160v-160H400v160ZM180-400h160v-160H180v160Zm440 0h160v-160H620v160ZM180-180h160v-160H180v160Zm440 0h160v-160H620v160Z\"/>\n",
              "  </svg>\n",
              "    </button>\n",
              "\n",
              "  <style>\n",
              "    .colab-df-container {\n",
              "      display:flex;\n",
              "      gap: 12px;\n",
              "    }\n",
              "\n",
              "    .colab-df-convert {\n",
              "      background-color: #E8F0FE;\n",
              "      border: none;\n",
              "      border-radius: 50%;\n",
              "      cursor: pointer;\n",
              "      display: none;\n",
              "      fill: #1967D2;\n",
              "      height: 32px;\n",
              "      padding: 0 0 0 0;\n",
              "      width: 32px;\n",
              "    }\n",
              "\n",
              "    .colab-df-convert:hover {\n",
              "      background-color: #E2EBFA;\n",
              "      box-shadow: 0px 1px 2px rgba(60, 64, 67, 0.3), 0px 1px 3px 1px rgba(60, 64, 67, 0.15);\n",
              "      fill: #174EA6;\n",
              "    }\n",
              "\n",
              "    .colab-df-buttons div {\n",
              "      margin-bottom: 4px;\n",
              "    }\n",
              "\n",
              "    [theme=dark] .colab-df-convert {\n",
              "      background-color: #3B4455;\n",
              "      fill: #D2E3FC;\n",
              "    }\n",
              "\n",
              "    [theme=dark] .colab-df-convert:hover {\n",
              "      background-color: #434B5C;\n",
              "      box-shadow: 0px 1px 3px 1px rgba(0, 0, 0, 0.15);\n",
              "      filter: drop-shadow(0px 1px 2px rgba(0, 0, 0, 0.3));\n",
              "      fill: #FFFFFF;\n",
              "    }\n",
              "  </style>\n",
              "\n",
              "    <script>\n",
              "      const buttonEl =\n",
              "        document.querySelector('#df-dff38b21-a5d6-4e01-b50b-a100a60e53fa button.colab-df-convert');\n",
              "      buttonEl.style.display =\n",
              "        google.colab.kernel.accessAllowed ? 'block' : 'none';\n",
              "\n",
              "      async function convertToInteractive(key) {\n",
              "        const element = document.querySelector('#df-dff38b21-a5d6-4e01-b50b-a100a60e53fa');\n",
              "        const dataTable =\n",
              "          await google.colab.kernel.invokeFunction('convertToInteractive',\n",
              "                                                    [key], {});\n",
              "        if (!dataTable) return;\n",
              "\n",
              "        const docLinkHtml = 'Like what you see? Visit the ' +\n",
              "          '<a target=\"_blank\" href=https://colab.research.google.com/notebooks/data_table.ipynb>data table notebook</a>'\n",
              "          + ' to learn more about interactive tables.';\n",
              "        element.innerHTML = '';\n",
              "        dataTable['output_type'] = 'display_data';\n",
              "        await google.colab.output.renderOutput(dataTable, element);\n",
              "        const docLink = document.createElement('div');\n",
              "        docLink.innerHTML = docLinkHtml;\n",
              "        element.appendChild(docLink);\n",
              "      }\n",
              "    </script>\n",
              "  </div>\n",
              "\n",
              "\n",
              "<div id=\"df-d248805e-f7b8-4910-89e9-c6a2e30ef490\">\n",
              "  <button class=\"colab-df-quickchart\" onclick=\"quickchart('df-d248805e-f7b8-4910-89e9-c6a2e30ef490')\"\n",
              "            title=\"Suggest charts.\"\n",
              "            style=\"display:none;\">\n",
              "\n",
              "<svg xmlns=\"http://www.w3.org/2000/svg\" height=\"24px\"viewBox=\"0 0 24 24\"\n",
              "     width=\"24px\">\n",
              "    <g>\n",
              "        <path d=\"M19 3H5c-1.1 0-2 .9-2 2v14c0 1.1.9 2 2 2h14c1.1 0 2-.9 2-2V5c0-1.1-.9-2-2-2zM9 17H7v-7h2v7zm4 0h-2V7h2v10zm4 0h-2v-4h2v4z\"/>\n",
              "    </g>\n",
              "</svg>\n",
              "  </button>\n",
              "\n",
              "<style>\n",
              "  .colab-df-quickchart {\n",
              "      --bg-color: #E8F0FE;\n",
              "      --fill-color: #1967D2;\n",
              "      --hover-bg-color: #E2EBFA;\n",
              "      --hover-fill-color: #174EA6;\n",
              "      --disabled-fill-color: #AAA;\n",
              "      --disabled-bg-color: #DDD;\n",
              "  }\n",
              "\n",
              "  [theme=dark] .colab-df-quickchart {\n",
              "      --bg-color: #3B4455;\n",
              "      --fill-color: #D2E3FC;\n",
              "      --hover-bg-color: #434B5C;\n",
              "      --hover-fill-color: #FFFFFF;\n",
              "      --disabled-bg-color: #3B4455;\n",
              "      --disabled-fill-color: #666;\n",
              "  }\n",
              "\n",
              "  .colab-df-quickchart {\n",
              "    background-color: var(--bg-color);\n",
              "    border: none;\n",
              "    border-radius: 50%;\n",
              "    cursor: pointer;\n",
              "    display: none;\n",
              "    fill: var(--fill-color);\n",
              "    height: 32px;\n",
              "    padding: 0;\n",
              "    width: 32px;\n",
              "  }\n",
              "\n",
              "  .colab-df-quickchart:hover {\n",
              "    background-color: var(--hover-bg-color);\n",
              "    box-shadow: 0 1px 2px rgba(60, 64, 67, 0.3), 0 1px 3px 1px rgba(60, 64, 67, 0.15);\n",
              "    fill: var(--button-hover-fill-color);\n",
              "  }\n",
              "\n",
              "  .colab-df-quickchart-complete:disabled,\n",
              "  .colab-df-quickchart-complete:disabled:hover {\n",
              "    background-color: var(--disabled-bg-color);\n",
              "    fill: var(--disabled-fill-color);\n",
              "    box-shadow: none;\n",
              "  }\n",
              "\n",
              "  .colab-df-spinner {\n",
              "    border: 2px solid var(--fill-color);\n",
              "    border-color: transparent;\n",
              "    border-bottom-color: var(--fill-color);\n",
              "    animation:\n",
              "      spin 1s steps(1) infinite;\n",
              "  }\n",
              "\n",
              "  @keyframes spin {\n",
              "    0% {\n",
              "      border-color: transparent;\n",
              "      border-bottom-color: var(--fill-color);\n",
              "      border-left-color: var(--fill-color);\n",
              "    }\n",
              "    20% {\n",
              "      border-color: transparent;\n",
              "      border-left-color: var(--fill-color);\n",
              "      border-top-color: var(--fill-color);\n",
              "    }\n",
              "    30% {\n",
              "      border-color: transparent;\n",
              "      border-left-color: var(--fill-color);\n",
              "      border-top-color: var(--fill-color);\n",
              "      border-right-color: var(--fill-color);\n",
              "    }\n",
              "    40% {\n",
              "      border-color: transparent;\n",
              "      border-right-color: var(--fill-color);\n",
              "      border-top-color: var(--fill-color);\n",
              "    }\n",
              "    60% {\n",
              "      border-color: transparent;\n",
              "      border-right-color: var(--fill-color);\n",
              "    }\n",
              "    80% {\n",
              "      border-color: transparent;\n",
              "      border-right-color: var(--fill-color);\n",
              "      border-bottom-color: var(--fill-color);\n",
              "    }\n",
              "    90% {\n",
              "      border-color: transparent;\n",
              "      border-bottom-color: var(--fill-color);\n",
              "    }\n",
              "  }\n",
              "</style>\n",
              "\n",
              "  <script>\n",
              "    async function quickchart(key) {\n",
              "      const quickchartButtonEl =\n",
              "        document.querySelector('#' + key + ' button');\n",
              "      quickchartButtonEl.disabled = true;  // To prevent multiple clicks.\n",
              "      quickchartButtonEl.classList.add('colab-df-spinner');\n",
              "      try {\n",
              "        const charts = await google.colab.kernel.invokeFunction(\n",
              "            'suggestCharts', [key], {});\n",
              "      } catch (error) {\n",
              "        console.error('Error during call to suggestCharts:', error);\n",
              "      }\n",
              "      quickchartButtonEl.classList.remove('colab-df-spinner');\n",
              "      quickchartButtonEl.classList.add('colab-df-quickchart-complete');\n",
              "    }\n",
              "    (() => {\n",
              "      let quickchartButtonEl =\n",
              "        document.querySelector('#df-d248805e-f7b8-4910-89e9-c6a2e30ef490 button');\n",
              "      quickchartButtonEl.style.display =\n",
              "        google.colab.kernel.accessAllowed ? 'block' : 'none';\n",
              "    })();\n",
              "  </script>\n",
              "</div>\n",
              "    </div>\n",
              "  </div>\n"
            ]
          },
          "metadata": {},
          "execution_count": 599
        }
      ]
    },
    {
      "cell_type": "code",
      "source": [
        "df.info()"
      ],
      "metadata": {
        "colab": {
          "base_uri": "https://localhost:8080/"
        },
        "id": "ZRYSryZR4OU5",
        "outputId": "6eb2f8ba-6f8e-4024-f17d-884127abb7f1"
      },
      "execution_count": 600,
      "outputs": [
        {
          "output_type": "stream",
          "name": "stdout",
          "text": [
            "<class 'pandas.core.frame.DataFrame'>\n",
            "RangeIndex: 107 entries, 0 to 106\n",
            "Data columns (total 14 columns):\n",
            " #   Column       Non-Null Count  Dtype  \n",
            "---  ------       --------------  -----  \n",
            " 0   Dentist      90 non-null     float64\n",
            " 1   Method       90 non-null     float64\n",
            " 2   Alloy        90 non-null     float64\n",
            " 3   Temp         90 non-null     float64\n",
            " 4   Response     90 non-null     float64\n",
            " 5   Unnamed: 5   0 non-null      float64\n",
            " 6   Unnamed: 6   0 non-null      float64\n",
            " 7   Unnamed: 7   102 non-null    object \n",
            " 8   Unnamed: 8   100 non-null    object \n",
            " 9   Unnamed: 9   100 non-null    object \n",
            " 10  Unnamed: 10  99 non-null     object \n",
            " 11  Unnamed: 11  98 non-null     object \n",
            " 12  Unnamed: 12  3 non-null      object \n",
            " 13  Unnamed: 13  3 non-null      object \n",
            "dtypes: float64(7), object(7)\n",
            "memory usage: 11.8+ KB\n"
          ]
        }
      ]
    },
    {
      "cell_type": "markdown",
      "source": [
        "here \"dentist\", \"method\", \"alloy\", \"temp\" are not values they are categories\n",
        "so we have to convert the float data types into categorical data type"
      ],
      "metadata": {
        "id": "wNb34EWx6mkY"
      }
    },
    {
      "cell_type": "code",
      "source": [
        "import numpy as np\n",
        "import pandas as pd\n",
        "import matplotlib.pyplot as plt\n",
        "import seaborn as sns\n",
        "%matplotlib inline\n",
        "import scipy.stats as stats\n",
        "df['Dentist'] = df['Dentist'].astype('category')\n",
        "df.Dentist.value_counts"
      ],
      "metadata": {
        "colab": {
          "base_uri": "https://localhost:8080/"
        },
        "id": "SBK5cwo_7gut",
        "outputId": "cb8b8daa-f256-41dc-c1ab-4ccf75780e36"
      },
      "execution_count": 601,
      "outputs": [
        {
          "output_type": "stream",
          "name": "stderr",
          "text": [
            "/usr/local/lib/python3.10/dist-packages/IPython/lib/pretty.py:700: FutureWarning: Index.ravel returning ndarray is deprecated; in a future version this will return a view on self.\n",
            "  output = repr(obj)\n"
          ]
        },
        {
          "output_type": "execute_result",
          "data": {
            "text/plain": [
              "<bound method IndexOpsMixin.value_counts of 0      1.0\n",
              "1      1.0\n",
              "2      1.0\n",
              "3      1.0\n",
              "4      1.0\n",
              "      ... \n",
              "102    NaN\n",
              "103    NaN\n",
              "104    NaN\n",
              "105    NaN\n",
              "106    NaN\n",
              "Name: Dentist, Length: 107, dtype: category\n",
              "Categories (5, float64): [1.0, 2.0, 3.0, 4.0, 5.0]>"
            ]
          },
          "metadata": {},
          "execution_count": 601
        }
      ]
    },
    {
      "cell_type": "code",
      "source": [
        "df['Alloy'] = df['Alloy'].astype('category')\n",
        "df.Alloy.value_counts"
      ],
      "metadata": {
        "colab": {
          "base_uri": "https://localhost:8080/"
        },
        "id": "Xd3J5KDt9rSy",
        "outputId": "b2bc31ce-dec5-4237-d7fc-a06c01b29890"
      },
      "execution_count": 602,
      "outputs": [
        {
          "output_type": "stream",
          "name": "stderr",
          "text": [
            "/usr/local/lib/python3.10/dist-packages/IPython/lib/pretty.py:700: FutureWarning: Index.ravel returning ndarray is deprecated; in a future version this will return a view on self.\n",
            "  output = repr(obj)\n"
          ]
        },
        {
          "output_type": "execute_result",
          "data": {
            "text/plain": [
              "<bound method IndexOpsMixin.value_counts of 0      1.0\n",
              "1      1.0\n",
              "2      1.0\n",
              "3      2.0\n",
              "4      2.0\n",
              "      ... \n",
              "102    NaN\n",
              "103    NaN\n",
              "104    NaN\n",
              "105    NaN\n",
              "106    NaN\n",
              "Name: Alloy, Length: 107, dtype: category\n",
              "Categories (2, float64): [1.0, 2.0]>"
            ]
          },
          "metadata": {},
          "execution_count": 602
        }
      ]
    },
    {
      "cell_type": "code",
      "source": [
        "df['Method'] = df['Method'].astype('category')\n",
        "df.Method.value_counts"
      ],
      "metadata": {
        "colab": {
          "base_uri": "https://localhost:8080/"
        },
        "id": "_7dJ99uz95rK",
        "outputId": "40372e8f-8f25-4ef4-8e25-73287dcbbffd"
      },
      "execution_count": 603,
      "outputs": [
        {
          "output_type": "stream",
          "name": "stderr",
          "text": [
            "/usr/local/lib/python3.10/dist-packages/IPython/lib/pretty.py:700: FutureWarning: Index.ravel returning ndarray is deprecated; in a future version this will return a view on self.\n",
            "  output = repr(obj)\n"
          ]
        },
        {
          "output_type": "execute_result",
          "data": {
            "text/plain": [
              "<bound method IndexOpsMixin.value_counts of 0      1.0\n",
              "1      1.0\n",
              "2      1.0\n",
              "3      1.0\n",
              "4      1.0\n",
              "      ... \n",
              "102    NaN\n",
              "103    NaN\n",
              "104    NaN\n",
              "105    NaN\n",
              "106    NaN\n",
              "Name: Method, Length: 107, dtype: category\n",
              "Categories (3, float64): [1.0, 2.0, 3.0]>"
            ]
          },
          "metadata": {},
          "execution_count": 603
        }
      ]
    },
    {
      "cell_type": "code",
      "source": [
        "df['Temp'] = df['Temp'].astype('category')\n",
        "df.Temp.value_counts"
      ],
      "metadata": {
        "colab": {
          "base_uri": "https://localhost:8080/"
        },
        "id": "9PzRa2Bz98lO",
        "outputId": "5c6023bb-663e-4e4e-fe87-b363dfa6d1cc"
      },
      "execution_count": 604,
      "outputs": [
        {
          "output_type": "stream",
          "name": "stderr",
          "text": [
            "/usr/local/lib/python3.10/dist-packages/IPython/lib/pretty.py:700: FutureWarning: Index.ravel returning ndarray is deprecated; in a future version this will return a view on self.\n",
            "  output = repr(obj)\n"
          ]
        },
        {
          "output_type": "execute_result",
          "data": {
            "text/plain": [
              "<bound method IndexOpsMixin.value_counts of 0      1500.0\n",
              "1      1600.0\n",
              "2      1700.0\n",
              "3      1500.0\n",
              "4      1600.0\n",
              "        ...  \n",
              "102       NaN\n",
              "103       NaN\n",
              "104       NaN\n",
              "105       NaN\n",
              "106       NaN\n",
              "Name: Temp, Length: 107, dtype: category\n",
              "Categories (3, float64): [1500.0, 1600.0, 1700.0]>"
            ]
          },
          "metadata": {},
          "execution_count": 604
        }
      ]
    },
    {
      "cell_type": "code",
      "source": [
        "df.shape"
      ],
      "metadata": {
        "colab": {
          "base_uri": "https://localhost:8080/"
        },
        "id": "3Cd3B-pn4QPI",
        "outputId": "0b9d4bac-55fa-48d5-a977-352abdc0c27e"
      },
      "execution_count": 605,
      "outputs": [
        {
          "output_type": "execute_result",
          "data": {
            "text/plain": [
              "(107, 14)"
            ]
          },
          "metadata": {},
          "execution_count": 605
        }
      ]
    },
    {
      "cell_type": "markdown",
      "source": [
        "the data has 107rows and 14 columns"
      ],
      "metadata": {
        "id": "PCkp8BXb5L0w"
      }
    },
    {
      "cell_type": "code",
      "source": [
        "df.describe"
      ],
      "metadata": {
        "colab": {
          "base_uri": "https://localhost:8080/"
        },
        "id": "CcmJV1z54SSL",
        "outputId": "35f14f88-2fc0-49e6-9c0d-a5c10b7c890f"
      },
      "execution_count": 606,
      "outputs": [
        {
          "output_type": "execute_result",
          "data": {
            "text/plain": [
              "<bound method NDFrame.describe of     Dentist Method Alloy    Temp  Response  Unnamed: 5  Unnamed: 6  \\\n",
              "0       1.0    1.0   1.0  1500.0     813.0         NaN         NaN   \n",
              "1       1.0    1.0   1.0  1600.0     792.0         NaN         NaN   \n",
              "2       1.0    1.0   1.0  1700.0     792.0         NaN         NaN   \n",
              "3       1.0    1.0   2.0  1500.0     907.0         NaN         NaN   \n",
              "4       1.0    1.0   2.0  1600.0     792.0         NaN         NaN   \n",
              "..      ...    ...   ...     ...       ...         ...         ...   \n",
              "102     NaN    NaN   NaN     NaN       NaN         NaN         NaN   \n",
              "103     NaN    NaN   NaN     NaN       NaN         NaN         NaN   \n",
              "104     NaN    NaN   NaN     NaN       NaN         NaN         NaN   \n",
              "105     NaN    NaN   NaN     NaN       NaN         NaN         NaN   \n",
              "106     NaN    NaN   NaN     NaN       NaN         NaN         NaN   \n",
              "\n",
              "                                Unnamed: 7        Unnamed: 8 Unnamed: 9  \\\n",
              "0    Anova: Two-Factor Without Replication               NaN        NaN   \n",
              "1                                      NaN               NaN        NaN   \n",
              "2                                  SUMMARY             Count        Sum   \n",
              "3                                        1                 4       2315   \n",
              "4                                        1                 4       2394   \n",
              "..                                     ...               ...        ...   \n",
              "102                                   Rows     513114.013889         89   \n",
              "103                                Columns  156164270.208333          3   \n",
              "104                                  Error    1978064.041667        267   \n",
              "105                                    NaN               NaN        NaN   \n",
              "106                                  Total  158655448.263889        359   \n",
              "\n",
              "         Unnamed: 10    Unnamed: 11 Unnamed: 12 Unnamed: 13  \n",
              "0                NaN            NaN         NaN         NaN  \n",
              "1                NaN            NaN         NaN         NaN  \n",
              "2            Average       Variance         NaN         NaN  \n",
              "3             578.75  523721.583333         NaN         NaN  \n",
              "4              598.5         584819         NaN         NaN  \n",
              "..               ...            ...         ...         ...  \n",
              "102      5765.325999       0.778206    0.917216    1.315369  \n",
              "103  52054756.736111    7026.375161         0.0    2.638412  \n",
              "104      7408.479557            NaN         NaN         NaN  \n",
              "105              NaN            NaN         NaN         NaN  \n",
              "106              NaN            NaN         NaN         NaN  \n",
              "\n",
              "[107 rows x 14 columns]>"
            ]
          },
          "metadata": {},
          "execution_count": 606
        }
      ]
    },
    {
      "cell_type": "code",
      "source": [
        "df.isnull().sum()"
      ],
      "metadata": {
        "colab": {
          "base_uri": "https://localhost:8080/"
        },
        "id": "6080-k074cGI",
        "outputId": "b6f5da29-e863-4f02-e4d2-c67e58a451d4"
      },
      "execution_count": 607,
      "outputs": [
        {
          "output_type": "execute_result",
          "data": {
            "text/plain": [
              "Dentist         17\n",
              "Method          17\n",
              "Alloy           17\n",
              "Temp            17\n",
              "Response        17\n",
              "Unnamed: 5     107\n",
              "Unnamed: 6     107\n",
              "Unnamed: 7       5\n",
              "Unnamed: 8       7\n",
              "Unnamed: 9       7\n",
              "Unnamed: 10      8\n",
              "Unnamed: 11      9\n",
              "Unnamed: 12    104\n",
              "Unnamed: 13    104\n",
              "dtype: int64"
            ]
          },
          "metadata": {},
          "execution_count": 607
        }
      ]
    },
    {
      "cell_type": "markdown",
      "source": [
        "4.1 How does the hardness of implants vary depending on dentists?\n",
        "\n"
      ],
      "metadata": {
        "id": "OxN7f9NQAIFJ"
      }
    },
    {
      "cell_type": "code",
      "source": [
        "import pandas as pd\n",
        "import statsmodels.api as sm\n",
        "from statsmodels.formula.api import ols\n",
        "from statsmodels.stats.anova import anova_lm\n",
        "path = \"/Dental+Hardness+data.xlsx\"\n",
        "df = pd.read_excel(path)\n",
        "formula = 'Response ~ C(Dentist)'\n",
        "model = ols(formula, df).fit()\n",
        "aov_table = anova_lm(model)\n",
        "# Print the ANOVA table\n",
        "print(aov_table)"
      ],
      "metadata": {
        "colab": {
          "base_uri": "https://localhost:8080/"
        },
        "id": "McP-g4qYI-zH",
        "outputId": "f590ab85-9666-4521-9c51-a877a512bc17"
      },
      "execution_count": 608,
      "outputs": [
        {
          "output_type": "stream",
          "name": "stdout",
          "text": [
            "              df        sum_sq       mean_sq         F    PR(>F)\n",
            "C(Dentist)   4.0  1.577946e+05  39448.638889  1.934537  0.112066\n",
            "Residual    85.0  1.733301e+06  20391.776471       NaN       NaN\n"
          ]
        }
      ]
    },
    {
      "cell_type": "code",
      "source": [
        "sns.pointplot(x='Dentist', y='Response', data=df, ci=None)"
      ],
      "metadata": {
        "colab": {
          "base_uri": "https://localhost:8080/",
          "height": 553
        },
        "id": "qTzQQT3XOyhY",
        "outputId": "a231d490-d067-4607-ec96-b56868e295b6"
      },
      "execution_count": 609,
      "outputs": [
        {
          "output_type": "stream",
          "name": "stderr",
          "text": [
            "<ipython-input-609-b46a97990828>:1: FutureWarning: \n",
            "\n",
            "The `ci` parameter is deprecated. Use `errorbar=None` for the same effect.\n",
            "\n",
            "  sns.pointplot(x='Dentist', y='Response', data=df, ci=None)\n"
          ]
        },
        {
          "output_type": "execute_result",
          "data": {
            "text/plain": [
              "<Axes: xlabel='Dentist', ylabel='Response'>"
            ]
          },
          "metadata": {},
          "execution_count": 609
        },
        {
          "output_type": "display_data",
          "data": {
            "text/plain": [
              "<Figure size 640x480 with 1 Axes>"
            ],
            "image/png": "[encoded data removed]"
          },
          "metadata": {}
        }
      ]
    },
    {
      "cell_type": "markdown",
      "source": [
        "#-> Between sums of squares is 1.577946\n",
        "#-> With-in sums of squares is 1.733301\n",
        "\n",
        "\n",
        "#-> Mean square for the factor/ the mean sqaures of the error = F-statistic\n",
        "\n",
        "#-> F-Statistic tell's the varience between dentist is about 1.9 times the varience with-in each little segment of dentist\n",
        "#-> The p value here is not less than the level of significance(0.05), so we can't reject null hypothesis and, therefore there there is significant  effcet on implant hardness depending on dentists"
      ],
      "metadata": {
        "id": "lC2xyk51MFLK"
      }
    },
    {
      "cell_type": "markdown",
      "source": [
        "4.2 How does the hardness of implants vary depending on methods?\n",
        "\n"
      ],
      "metadata": {
        "id": "jSldBESVAITg"
      }
    },
    {
      "cell_type": "code",
      "source": [
        "import pandas as pd\n",
        "import statsmodels.api as sm\n",
        "from statsmodels.formula.api import ols\n",
        "from statsmodels.stats.anova import anova_lm\n",
        "path = \"/Dental+Hardness+data.xlsx\"\n",
        "df = pd.read_excel(path)\n",
        "formula = 'Response ~ C(Method)'\n",
        "model = ols(formula, df).fit()\n",
        "aov_table = anova_lm(model)\n",
        "# Print the ANOVA table\n",
        "print(aov_table)"
      ],
      "metadata": {
        "colab": {
          "base_uri": "https://localhost:8080/"
        },
        "id": "PFQbjCUQALOf",
        "outputId": "66a679db-dda3-4a26-af87-64ac0cd2a31b"
      },
      "execution_count": 610,
      "outputs": [
        {
          "output_type": "stream",
          "name": "stdout",
          "text": [
            "             df        sum_sq        mean_sq         F        PR(>F)\n",
            "C(Method)   2.0  5.934275e+05  296713.744444  19.89268  7.683892e-08\n",
            "Residual   87.0  1.297668e+06   14915.724904       NaN           NaN\n"
          ]
        }
      ]
    },
    {
      "cell_type": "code",
      "source": [
        "sns.pointplot(x='Method', y='Response', data=df, ci=None)"
      ],
      "metadata": {
        "colab": {
          "base_uri": "https://localhost:8080/",
          "height": 553
        },
        "id": "Bt2ILtTVQE_0",
        "outputId": "3861ac4c-e584-4f7d-c953-65ade6dd8fa0"
      },
      "execution_count": 611,
      "outputs": [
        {
          "output_type": "stream",
          "name": "stderr",
          "text": [
            "<ipython-input-611-492cfee0ebb5>:1: FutureWarning: \n",
            "\n",
            "The `ci` parameter is deprecated. Use `errorbar=None` for the same effect.\n",
            "\n",
            "  sns.pointplot(x='Method', y='Response', data=df, ci=None)\n"
          ]
        },
        {
          "output_type": "execute_result",
          "data": {
            "text/plain": [
              "<Axes: xlabel='Method', ylabel='Response'>"
            ]
          },
          "metadata": {},
          "execution_count": 611
        },
        {
          "output_type": "display_data",
          "data": {
            "text/plain": [
              "<Figure size 640x480 with 1 Axes>"
            ],
            "image/png": "[encoded data removed]"
          },
          "metadata": {}
        }
      ]
    },
    {
      "cell_type": "markdown",
      "source": [
        "#-> Between sums of squares is 5.934275e+05\n",
        "#-> With-in sums of squares is 1.297668e+06\n",
        "\n",
        "\n",
        "#-> Mean square for the factor/ the mean sqaures of the error = F-statistic\n",
        "\n",
        "#-> F-Statistic tell's the varience between dentist is about 19.89268 times the varience with-in each little segment of dentist\n",
        "#-> The p value here is not less than the level of significance(0.05), so we can't reject null hypothesis and, therefore there there is significant  effcet on implant hardness depending on Method"
      ],
      "metadata": {
        "id": "EYkQzslAALa9"
      }
    },
    {
      "cell_type": "markdown",
      "source": [
        "4.3 What is the interaction effect between the dentist and method on the hardness of dental implants for each type of alloy?"
      ],
      "metadata": {
        "id": "EM_SUD-uALpR"
      }
    },
    {
      "cell_type": "code",
      "source": [
        "import pandas as pd\n",
        "import statsmodels.api as sm\n",
        "from statsmodels.formula.api import ols\n",
        "from statsmodels.stats.anova import anova_lm\n",
        "path = \"/Dental+Hardness+data.xlsx\"\n",
        "df = pd.read_excel(path)\n",
        "formula = 'Response ~ C(Dentist) + C(Method) +  C(Dentist):C(Method)'\n",
        "model = ols(formula, df).fit()\n",
        "aov_table = anova_lm(model)\n",
        "# Print the ANOVA table\n",
        "print(aov_table)"
      ],
      "metadata": {
        "colab": {
          "base_uri": "https://localhost:8080/"
        },
        "id": "QlgwasTvAN9e",
        "outputId": "eed7bb92-40ee-4c68-afb9-d6ab2559b5a4"
      },
      "execution_count": 612,
      "outputs": [
        {
          "output_type": "stream",
          "name": "stdout",
          "text": [
            "                        df         sum_sq        mean_sq          F  \\\n",
            "C(Dentist)             4.0  157794.555556   39448.638889   3.550086   \n",
            "C(Method)              2.0  593427.488889  296713.744444  26.702047   \n",
            "C(Dentist):C(Method)   8.0  306471.844444   38308.980556   3.447526   \n",
            "Residual              75.0  833401.666667   11112.022222        NaN   \n",
            "\n",
            "                            PR(>F)  \n",
            "C(Dentist)            1.045384e-02  \n",
            "C(Method)             1.750208e-09  \n",
            "C(Dentist):C(Method)  1.969515e-03  \n",
            "Residual                       NaN  \n"
          ]
        }
      ]
    },
    {
      "cell_type": "code",
      "source": [
        "sns.pointplot(x='Dentist', y='Response', data=df,hue='Method', ci=None)"
      ],
      "metadata": {
        "colab": {
          "base_uri": "https://localhost:8080/",
          "height": 553
        },
        "id": "eW5eIRc1ZItL",
        "outputId": "ee2c08fe-e75b-4f7f-967a-8488f715e281"
      },
      "execution_count": 613,
      "outputs": [
        {
          "output_type": "stream",
          "name": "stderr",
          "text": [
            "<ipython-input-613-e3c2e852ac4f>:1: FutureWarning: \n",
            "\n",
            "The `ci` parameter is deprecated. Use `errorbar=None` for the same effect.\n",
            "\n",
            "  sns.pointplot(x='Dentist', y='Response', data=df,hue='Method', ci=None)\n"
          ]
        },
        {
          "output_type": "execute_result",
          "data": {
            "text/plain": [
              "<Axes: xlabel='Dentist', ylabel='Response'>"
            ]
          },
          "metadata": {},
          "execution_count": 613
        },
        {
          "output_type": "display_data",
          "data": {
            "text/plain": [
              "<Figure size 640x480 with 1 Axes>"
            ],
            "image/png": "[encoded data removed]"
          },
          "metadata": {}
        }
      ]
    },
    {
      "cell_type": "markdown",
      "source": [
        "-> The sums of squares due to the interaction is 306471.844444\n",
        "\n",
        "-> Mean square for the factor/ the mean sqaures of the error = F-statistic\n",
        "\n",
        "-> F-Statistic tell's the varience between dentist is about 19.89268 times the varience with-in each little segment of dentist\n",
        "\n",
        "-> The p value here is 1.969515e-03 it is greater than the level of significance(0.05), so we can say that we are almost 80% sure that there is interaction betwen dentist and method but we are not 95% sure sp there is not enough evidence that there is interaction between dentist and methods and that these two factors do not effect the hardness of the implants\n",
        ""
      ],
      "metadata": {
        "id": "qX0Ao-ObAOJb"
      }
    },
    {
      "cell_type": "markdown",
      "source": [
        "4.4 How does the hardness of implants vary depending on dentists and methods together?\n",
        "\n"
      ],
      "metadata": {
        "id": "puU4mZL4AOTG"
      }
    },
    {
      "cell_type": "code",
      "source": [
        "import pandas as pd\n",
        "import statsmodels.api as sm\n",
        "from statsmodels.formula.api import ols\n",
        "from statsmodels.stats.anova import anova_lm\n",
        "path = \"/Dental+Hardness+data.xlsx\"\n",
        "df = pd.read_excel(path)\n",
        "formula = 'Response ~ C(Dentist) * C(Method)'\n",
        "model = ols(formula, df).fit()\n",
        "anova_table = anova_lm(model, typ=2)\n",
        "print(anova_table)"
      ],
      "metadata": {
        "colab": {
          "base_uri": "https://localhost:8080/"
        },
        "id": "01yTNVI1ATTB",
        "outputId": "0828c11c-f56c-46f1-9fa9-a3422145c105"
      },
      "execution_count": 614,
      "outputs": [
        {
          "output_type": "stream",
          "name": "stdout",
          "text": [
            "                             sum_sq    df          F        PR(>F)\n",
            "C(Dentist)            157794.555556   4.0   3.550086  1.045384e-02\n",
            "C(Method)             593427.488889   2.0  26.702047  1.750208e-09\n",
            "C(Dentist):C(Method)  306471.844444   8.0   3.447526  1.969515e-03\n",
            "Residual              833401.666667  75.0        NaN           NaN\n"
          ]
        }
      ]
    },
    {
      "cell_type": "markdown",
      "source": [],
      "metadata": {
        "id": "pWjL5VvCAThv"
      }
    },
    {
      "cell_type": "code",
      "source": [
        "sns.pointplot(x='Dentist', y='Response', data=df,hue='Method', ci=None)"
      ],
      "metadata": {
        "colab": {
          "base_uri": "https://localhost:8080/",
          "height": 553
        },
        "id": "Vkio1I_1bnya",
        "outputId": "c4072b21-dcb0-467b-e266-7310ab22e9c1"
      },
      "execution_count": 615,
      "outputs": [
        {
          "output_type": "stream",
          "name": "stderr",
          "text": [
            "<ipython-input-615-e3c2e852ac4f>:1: FutureWarning: \n",
            "\n",
            "The `ci` parameter is deprecated. Use `errorbar=None` for the same effect.\n",
            "\n",
            "  sns.pointplot(x='Dentist', y='Response', data=df,hue='Method', ci=None)\n"
          ]
        },
        {
          "output_type": "execute_result",
          "data": {
            "text/plain": [
              "<Axes: xlabel='Dentist', ylabel='Response'>"
            ]
          },
          "metadata": {},
          "execution_count": 615
        },
        {
          "output_type": "display_data",
          "data": {
            "text/plain": [
              "<Figure size 640x480 with 1 Axes>"
            ],
            "image/png": "[encoded data removed]"
          },
          "metadata": {}
        }
      ]
    }
  ]
}